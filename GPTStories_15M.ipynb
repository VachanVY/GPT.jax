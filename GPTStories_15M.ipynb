{
 "cells": [
  {
   "cell_type": "markdown",
   "metadata": {},
   "source": [
    "# Import Modules"
   ]
  },
  {
   "cell_type": "code",
   "execution_count": 1,
   "metadata": {},
   "outputs": [
    {
     "name": "stdout",
     "output_type": "stream",
     "text": [
      "Python Version 3.11.8 (main, Feb 25 2024, 16:39:33) [GCC 11.4.0]\n",
      "Keras Version 3.0.4 with jax backend \tJax Version 0.4.23\n",
      "Jax backend device gpu\n"
     ]
    }
   ],
   "source": [
    "import sys\n",
    "import time\n",
    "from dataclasses import dataclass\n",
    "import random as r\n",
    "import numpy as np\n",
    "from functools import partial\n",
    "from matplotlib import pyplot as plt\n",
    "from sentencepiece import SentencePieceProcessor\n",
    "import os; import glob\n",
    "import requests\n",
    "from typing import Callable, Sequence, Any, Optional\n",
    "import functools; import operator\n",
    "from tqdm import tqdm\n",
    "import pickle\n",
    "\n",
    "import jax\n",
    "from jax import (\n",
    "    Array,\n",
    "    numpy as jnp,\n",
    "    random as jrand\n",
    ")\n",
    "try:\n",
    "    from flash_attn_jax import flash_mha\n",
    "    USE_FLASH_ATT = True\n",
    "except:\n",
    "    USE_FLASH_ATT = False\n",
    "import keras as nn; nn.utils.set_random_seed(42)\n",
    "nn.mixed_precision.set_dtype_policy(\"mixed_bfloat16\")\n",
    "import torch\n",
    "\n",
    "print(\"Python Version\", sys.version); del sys\n",
    "print(f\"Keras Version {nn.__version__} with {nn.backend.backend()} backend \\tJax Version {jax.__version__}\")\n",
    "print(\"Jax backend device\", jax.default_backend())"
   ]
  },
  {
   "cell_type": "markdown",
   "metadata": {},
   "source": [
    "# Tokenizer"
   ]
  },
  {
   "cell_type": "code",
   "execution_count": 2,
   "metadata": {},
   "outputs": [
    {
     "name": "stdout",
     "output_type": "stream",
     "text": [
      "32000\n",
      "Hey hi!!! [18637, 7251, 21004]\n"
     ]
    }
   ],
   "source": [
    "tokenizer_path = \"sentence_piece_32000.model\"\n",
    "spm = SentencePieceProcessor(model_file=tokenizer_path)\n",
    "VOCAB_SIZE = spm.vocab_size(); print(VOCAB_SIZE)\n",
    "SOS = spm.bos_id()\n",
    "print(spm.Decode(spm.Encode(\"Hey hi!!!\")), spm.Encode(\"Hey hi!!!\"))"
   ]
  },
  {
   "cell_type": "markdown",
   "metadata": {},
   "source": [
    "# Dataset"
   ]
  },
  {
   "cell_type": "code",
   "execution_count": 3,
   "metadata": {},
   "outputs": [],
   "source": [
    "DATA_CACHE_DIR = \"data/TinyStories\"\n",
    "TRAIN_FILE_PATH = os.path.join(DATA_CACHE_DIR, \"train.txt\")\n",
    "VAL_FILE_PATH = os.path.join(DATA_CACHE_DIR, \"val.txt\")\n",
    "\n",
    "SHARD_DIR = os.path.join(DATA_CACHE_DIR, f\"tok{VOCAB_SIZE}\")"
   ]
  },
  {
   "cell_type": "markdown",
   "metadata": {},
   "source": [
    "## File Utils"
   ]
  },
  {
   "cell_type": "code",
   "execution_count": 4,
   "metadata": {},
   "outputs": [],
   "source": [
    "def download_file(url:str, filename:str, chunk_size:int=1024):\n",
    "    \"\"\"Download a file from the given URL and save it with the specified filename\"\"\"\n",
    "    resp = requests.get(url, stream=True)\n",
    "    total = int(resp.headers.get(\"content-length\", 0))\n",
    "    with open(filename, \"wb\") as file, tqdm(\n",
    "        desc=filename,\n",
    "        total=total,\n",
    "        unit=\"iB\",\n",
    "        unit_scale=True,\n",
    "        unit_divisor=1024,\n",
    "    ) as bar:\n",
    "        for data in resp.iter_content(chunk_size=chunk_size):\n",
    "            size = file.write(data)\n",
    "            bar.update(size)\n",
    "\n",
    "    print(f\"{filename} downloaded successfully:\")"
   ]
  },
  {
   "cell_type": "markdown",
   "metadata": {},
   "source": [
    "## Data"
   ]
  },
  {
   "cell_type": "code",
   "execution_count": 5,
   "metadata": {},
   "outputs": [],
   "source": [
    "def download():\n",
    "    \"download if train file not present and data dir is empty\"\n",
    "    os.makedirs(DATA_CACHE_DIR, exist_ok=True)\n",
    "\n",
    "    urls = [\"https://huggingface.co/datasets/roneneldan/TinyStories/resolve/main/TinyStoriesV2-GPT4-train.txt\",\n",
    "            \"https://huggingface.co/datasets/roneneldan/TinyStories/resolve/main/TinyStoriesV2-GPT4-valid.txt\"]\n",
    "    file_paths = [TRAIN_FILE_PATH, VAL_FILE_PATH]\n",
    "\n",
    "    if (not os.listdir(DATA_CACHE_DIR)):\n",
    "        # download files\n",
    "        for url, file_path in zip(urls, file_paths):\n",
    "            if (not os.path.exists(file_path)):\n",
    "                download_file(url, file_path)\n",
    "    else:\n",
    "        print(f\"{file_paths[0]} is present. Skipping download.\")"
   ]
  },
  {
   "cell_type": "code",
   "execution_count": 6,
   "metadata": {},
   "outputs": [
    {
     "name": "stdout",
     "output_type": "stream",
     "text": [
      "data/TinyStories/train.txt is present. Skipping download.\n"
     ]
    }
   ],
   "source": [
    "download() # ~8mins to download"
   ]
  },
  {
   "cell_type": "markdown",
   "metadata": {},
   "source": [
    "## Pretokenize, Shard and Load Data Functions"
   ]
  },
  {
   "cell_type": "code",
   "execution_count": 7,
   "metadata": {},
   "outputs": [],
   "source": [
    "def pretokenize_and_save_dataset(train_ds_path:str, val_ds_path:str, num_shards:int):\n",
    "    if glob.glob(os.path.join(SHARD_DIR, \"*.npy\")):\n",
    "        print(\"Dataset is already pretokenized.\")\n",
    "    else:\n",
    "        print(\"Pretokenizing dataset...\")\n",
    "        dataset = open(train_ds_path, \"r\", encoding=\"utf-8\").read().split(\"<|endoftext|>\")\n",
    "        val_dataset = open(val_ds_path, \"r\", encoding=\"utf-8\").read().split(\"<|endoftext|>\")\n",
    "\n",
    "        dataset = dataset + val_dataset; del val_dataset\n",
    "        dataset = list(map(str.strip, dataset))\n",
    "        dataset:list = spm.Encode(\n",
    "                dataset,\n",
    "                add_bos=True,\n",
    "                add_eos=False\n",
    "            ) # [[SOS story], ..., [SOS story]]\n",
    "        print(\"Dataset:\")\n",
    "        print(\"\\tNumber of stories:\", len(dataset))\n",
    "\n",
    "        # flatten\n",
    "        dataset = functools.reduce(operator.iconcat, dataset, [])\n",
    "        num_tokens = len(dataset); print(\"\\tNumber of tokens in the dataset:\", num_tokens)\n",
    "        print(\"\\tNumber of unique tokens in the dataset:\", len(set(dataset)))\n",
    "        \n",
    "        dataset = np.asarray(dataset, dtype=np.uint16) # [SOS story ... SOS story]\n",
    "        print(\"\\tAvg length of story:\", num_tokens/((dataset==SOS).sum()))\n",
    "\n",
    "        # shard and save dataset\n",
    "        sharded_datasets_list = np.array_split(dataset, num_shards) # [[SOS story...], [...], [...], ...]\n",
    "        filenames = [os.path.join(SHARD_DIR, f\"shard{i+1}.npy\") for i in range(num_shards)]\n",
    "        \n",
    "        for filename, sharded_ds in tqdm(zip(filenames, sharded_datasets_list), total=len(filenames), desc=\"Saving pretokenized shards\"):\n",
    "            with open(filename, \"wb\") as f:\n",
    "                np.save(f, sharded_ds)\n",
    "        print(\"Done.\")\n",
    "\n",
    "\n",
    "class IterDataset(torch.utils.data.IterableDataset):\n",
    "    def __init__(self, split:str, maxlen:int, seed:int=42):\n",
    "        self.split = split\n",
    "        self.maxlen = maxlen\n",
    "        \n",
    "        os.makedirs(SHARD_DIR, exist_ok=True)\n",
    "        self.shard_filepaths = glob.glob(os.path.join(SHARD_DIR, \"*.npy\"))\n",
    "        self.r = r.Random(seed)\n",
    "\n",
    "    def __iter__(self):\n",
    "        split_shard_filepaths = self.shard_filepaths[:-1] if self.split == \"train\" else self.shard_filepaths\n",
    "\n",
    "        while True:\n",
    "            self.r.shuffle(split_shard_filepaths)\n",
    "            for shard in split_shard_filepaths:\n",
    "                m:np.ndarray = np.load(shard, mmap_mode=\"r\")\n",
    "\n",
    "                num_batches = len(m)//self.maxlen\n",
    "                num_batches -= 1 # drop remainder\n",
    "                assert num_batches > 0, \"Number of batches should be greater than 0. Investigate...\"\n",
    "\n",
    "                ixs = list(range(num_batches))\n",
    "                self.r.shuffle(ixs)\n",
    "\n",
    "                for ix in ixs:\n",
    "                    start = ix*self.maxlen\n",
    "                    end = start + self.maxlen + 1\n",
    "\n",
    "                    chunk = torch.from_numpy(m[start:end].astype(dtype=np.int64))\n",
    "                    x = chunk[:-1]\n",
    "                    y = chunk[1:]\n",
    "                    yield x, y\n",
    "\n",
    "\n",
    "class BatchedDataset:\n",
    "    @staticmethod\n",
    "    def iter_ds(batch_size, device, num_workers=0, **ds_kwargs):\n",
    "        ds = torch.utils.data.DataLoader(\n",
    "            IterDataset(**ds_kwargs), batch_size=batch_size, pin_memory=True,\n",
    "            num_workers=num_workers\n",
    "        )\n",
    "\n",
    "        for x, y in ds:\n",
    "            x = x.to(device, non_blocking=True)\n",
    "            y = y.to(device, non_blocking=True)\n",
    "\n",
    "            yield x, y"
   ]
  },
  {
   "cell_type": "markdown",
   "metadata": {},
   "source": [
    "# GPT"
   ]
  },
  {
   "cell_type": "markdown",
   "metadata": {},
   "source": [
    "## Positional Embeddings"
   ]
  },
  {
   "cell_type": "code",
   "execution_count": 8,
   "metadata": {},
   "outputs": [],
   "source": [
    "class PositionalEmbedding:\n",
    "    \"\"\"```\n",
    "    Sinusoidal Fixed Positional Embeddings\n",
    "    Args:\n",
    "        maxlen:int\n",
    "        dim:int\n",
    "    sinusoidal_embeddings: \n",
    "        pos_emb: (1, maxlen, dim)\n",
    "    get_freqs:\n",
    "        get_freqs: sin_freqs(1, maxlen, 1, dim), cos_freqs(1, maxlen, 1, dim)\n",
    "    ```\"\"\"\n",
    "    def __init__(self, maxlen:int, dim:int):\n",
    "        p, i = jnp.meshgrid(jnp.arange(float(maxlen)), jnp.arange(dim/2)*2)\n",
    "        theta = (p/1e4**(i/dim)).T\n",
    "    \n",
    "        self.pos_emb = jnp.stack([jnp.sin(theta), jnp.cos(theta)], axis=-1)\n",
    "        self.pos_emb = self.pos_emb.reshape((maxlen, dim))[None] # (1, maxlen, dim)\n",
    "    \n",
    "    def sinusoidal_embeddings(self):\n",
    "        return self.pos_emb # (1, maxlen, dim)\n",
    "    \n",
    "    def get_freqs(self):\n",
    "        sin_freqs = self.pos_emb[..., None, ::2].repeat(2, axis=-1)\n",
    "        cos_freqs = self.pos_emb[..., None, 1::2].repeat(2, axis=-1)\n",
    "        return sin_freqs, cos_freqs # (1, maxlen, 1, dim), (1, maxlen, 1, dim)"
   ]
  },
  {
   "cell_type": "markdown",
   "metadata": {},
   "source": [
    "## Attention"
   ]
  },
  {
   "cell_type": "code",
   "execution_count": 9,
   "metadata": {},
   "outputs": [],
   "source": [
    "class Attention(nn.Layer):\n",
    "    \"\"\"```\n",
    "    Multi-head Attention\n",
    "    Args:\n",
    "        causal:bool\n",
    "        config\n",
    "    Input:\n",
    "        x: shape(B, N, d_model)\n",
    "        training: bool\n",
    "    Output:\n",
    "        linear_att_out: shape(B, N, d_model)\n",
    "    ```\"\"\"\n",
    "    def __init__(\n",
    "            self,\n",
    "            causal:bool,\n",
    "            config,\n",
    "            **kwargs\n",
    "    ):\n",
    "        super().__init__(**kwargs)\n",
    "        assert config.d_model % config.num_heads == 0\n",
    "        self.flash = config.use_flash_att\n",
    "        self.causal = causal\n",
    "        self.num_heads = config.num_heads\n",
    "        self.dim = config.d_model//config.num_heads\n",
    "\n",
    "        self.wq = nn.layers.Dense(config.d_model, use_bias=False, kernel_initializer=config.intializer(std=0.02))\n",
    "        self.wk = nn.layers.Dense(config.d_model, use_bias=False, kernel_initializer=config.intializer(std=0.02))\n",
    "        self.wv = nn.layers.Dense(config.d_model, use_bias=False, kernel_initializer=config.intializer(std=0.02))\n",
    "        self.dropout = nn.layers.Dropout(config.dropout_rate)\n",
    "\n",
    "        self.wo = nn.layers.Dense(\n",
    "            config.d_model,\n",
    "            use_bias=config.use_bias,\n",
    "            kernel_initializer=config.intializer(std=0.02/(2*config.num_layers)**0.5)\n",
    "        )\n",
    "        if causal and (not config.use_flash_att): # when causal and not using flash att\n",
    "            self.causal_mask = jnp.triu(jnp.full(shape=(1, 1, config.maxlen, config.maxlen), fill_value=-jnp.inf), k=1)\n",
    "\n",
    "    def call(\n",
    "            self,\n",
    "            x:Array, # (B, T, d_model)\n",
    "            training:bool\n",
    "    ):\n",
    "        B, T, d_model = x.shape\n",
    "\n",
    "        # compute q, k, v\n",
    "        q = self.wq(x) # (B, T, d_model)\n",
    "        k = self.wk(x) # (B, T, d_model)\n",
    "        v = self.wv(x) # (B, T, d_model)\n",
    "        \n",
    "        # compute attention weights\n",
    "        if self.flash:\n",
    "            shape = (B, T, self.num_heads, self.dim)\n",
    "            q, k, v = q.reshape(shape), k.reshape(shape), v.reshape(shape) # (B, T, h, dim)\n",
    "            att_out = flash_mha(q, k, v, softmax_scale=None, is_causal=self.causal) # (B, T, h, dim)\n",
    "        else:\n",
    "            shape = (B, self.num_heads, T, self.dim)\n",
    "            q, k, v = q.reshape(shape), k.reshape(shape), v.reshape(shape) # (B, h, T, dim)\n",
    "            att_wei = (q @ jnp.matrix_transpose(k))/self.dim**0.5 # (B, h, T, T) <= (B, h, T, dim) @ (B, h, T, dim).transpose(2, 3)\n",
    "            # causal mask\n",
    "            if self.causal:\n",
    "                att_wei += self.causal_mask[:, :, :T, :T] # (B, h, T, T)\n",
    "            att_wei = jax.nn.softmax(att_wei, axis=-1) # (B, h, T, T)\n",
    "            # apply attention weights to v\n",
    "            att_out = att_wei @ v # (B, h, T, T) @ (B, h, T, dv) => (B, h, T, dv)\n",
    "\n",
    "        # combine heads\n",
    "        att_out = att_out.reshape((B, T, d_model)) # (B, T, h*dim) ==> (B, T, d_model)\n",
    "\n",
    "        # linear of att_out\n",
    "        linear_att_out = self.wo(att_out)\n",
    "        linear_att_out = self.dropout(linear_att_out, training=training) # (B, T, d_model)\n",
    "        return linear_att_out"
   ]
  },
  {
   "cell_type": "markdown",
   "metadata": {},
   "source": [
    "## Block"
   ]
  },
  {
   "cell_type": "code",
   "execution_count": 10,
   "metadata": {},
   "outputs": [],
   "source": [
    "class TransformerBlock(nn.Model):\n",
    "    \"\"\"```\n",
    "    TransformerBlock\n",
    "    Args:\n",
    "        causal:bool\n",
    "        config\n",
    "    Inputs:\n",
    "        inputs: shape(B, T, d_model)\n",
    "        pad_mask: shape(B, T) of boolean dtype\n",
    "    Outputs:\n",
    "        outputs: shape(B, T, d_model)\n",
    "    ```\"\"\"\n",
    "    def __init__(\n",
    "            self, \n",
    "            causal:bool, \n",
    "            config,\n",
    "            **kwargs\n",
    "    ):\n",
    "        super().__init__(**kwargs)\n",
    "        dff_in = 4*config.d_model\n",
    "        self.norm1 = nn.layers.LayerNormalization(epsilon=1e-5, rms_scaling=not config.use_bias)\n",
    "        self.mha = Attention(causal, config)\n",
    "\n",
    "        self.ffn = nn.Sequential([\n",
    "            nn.layers.Dense(int(dff_in), use_bias=config.use_bias, kernel_initializer=config.intializer(std=0.02)),\n",
    "            nn.layers.Activation(lambda x: nn.activations.gelu(x, approximate=True)),\n",
    "            nn.layers.Dense(config.d_model, use_bias=config.use_bias, kernel_initializer=config.intializer(std=0.02)),\n",
    "            nn.layers.Dropout(config.dropout_rate)\n",
    "        ])\n",
    "        self.norm2 = nn.layers.LayerNormalization(epsilon=1e-5, rms_scaling=not config.use_bias)\n",
    "        \n",
    "    def call(self, x:Array, training:bool):\n",
    "        z = x + self.mha(self.norm1(x), training=training)\n",
    "        y = z + self.ffn(self.norm2(z), training=training)\n",
    "        return y # (B, T, d_model)"
   ]
  },
  {
   "cell_type": "code",
   "execution_count": 11,
   "metadata": {},
   "outputs": [],
   "source": [
    "def build_model(model:nn.Model, input_shape:tuple, val_intervals:tuple):\n",
    "    blabla = model(\n",
    "        jrand.randint(jrand.PRNGKey(32344), shape=input_shape, minval=val_intervals[0], maxval=val_intervals[-1]), training=True\n",
    "    ); del blabla\n",
    "    return model\n",
    "\n",
    "class TieWeights(nn.Layer):\n",
    "    def __init__(self, Layer:nn.Layer, bias_units:int|None, activation=None, **kwargs):\n",
    "        super().__init__(**kwargs)\n",
    "        self.Layer = Layer # weights of (1, vocab_size, d_model)\n",
    "        self.use_bias = bool(bias_units)\n",
    "        self.activation = nn.layers.Activation(nn.activations.get(activation), dtype=kwargs[\"dtype\"])\n",
    "        \n",
    "        if self.use_bias:\n",
    "            self.bias = self.add_weight(shape=(bias_units,), initializer=\"zeros\", trainable=True)\n",
    "        \n",
    "    def call(self, x): # (B, T, d_model)\n",
    "        W = jnp.array(self.Layer.weights)[0] # (vocab_size, d_model)\n",
    "        z = x @ jnp.matrix_transpose(W) # (B, T, vocab_size)\n",
    "        if self.use_bias:\n",
    "            z += self.bias\n",
    "        return self.activation(z)"
   ]
  },
  {
   "cell_type": "markdown",
   "metadata": {},
   "source": [
    "## Transformer"
   ]
  },
  {
   "cell_type": "code",
   "execution_count": 12,
   "metadata": {},
   "outputs": [],
   "source": [
    "class Transformer(nn.Model):\n",
    "    \"\"\"```\n",
    "    Decoder Transformer!!\n",
    "    Args:\n",
    "        causal:bool\n",
    "        config:\n",
    "            d_model: int\n",
    "            num_heads: int\n",
    "            num_layers: int\n",
    "            maxlen: int\n",
    "            vocab_size: int\n",
    "            output_units: int => if None is equal to vocab_size\n",
    "            use_bias:bool,\n",
    "            dropout_rate: float\n",
    "        output_activation:str\n",
    "    Inputs:\n",
    "        inputs: shape(B, T)\n",
    "    Outputs: \n",
    "        outputs: shape(B, T, d_model)    \n",
    "    ```\"\"\"\n",
    "    def __init__(self, causal:bool, config, output_activation:str=None, **kwargs):\n",
    "        super().__init__(**kwargs)\n",
    "        if config.output_units is None:\n",
    "            config.output_units = config.vocab_size\n",
    "        # pos embedding\n",
    "        self.pos_embed = PositionalEmbedding(config.maxlen, config.d_model).sinusoidal_embeddings() # (1, maxlen, d_model)\n",
    "        # embedding tokens and dropout\n",
    "        self.emb_dropout = nn.layers.Dropout(config.dropout_rate)\n",
    "        self.token_embed = nn.layers.Embedding(\n",
    "            config.vocab_size,\n",
    "            config.d_model,\n",
    "            embeddings_initializer=config.intializer(std=0.02)\n",
    "        )\n",
    "\n",
    "        # block layers\n",
    "        self.block_layers = [\n",
    "                TransformerBlock(\n",
    "                    causal=causal, \n",
    "                    config=config\n",
    "                ) for _ in range(config.num_layers)\n",
    "            ]\n",
    "\n",
    "        # final layer: outputs logits with dropout\n",
    "        self.norm = nn.layers.LayerNormalization(epsilon=1e-5, rms_scaling=not config.use_bias)\n",
    "        \n",
    "        self.linear = TieWeights(\n",
    "            self.token_embed,\n",
    "            bias_units=None if config.use_bias is False else config.output_units,\n",
    "            activation=output_activation,\n",
    "            dtype=\"float32\"\n",
    "        )\n",
    "\n",
    "    def call(\n",
    "            self, \n",
    "            inputs:Array,\n",
    "            training=False\n",
    "    ):\n",
    "        # embed tokens\n",
    "        x = self.emb_dropout(\n",
    "            self.token_embed(inputs)+self.pos_embed[:, :inputs.shape[-1], :], training=training\n",
    "        ) # (B, T) ==> (B, T, d_model) # (B, T) ==> (B, T, d_model)\n",
    "        \n",
    "        # block layers\n",
    "        for layer in self.block_layers:\n",
    "            x = layer(x, training=training) # (B, T, d_model) ==> (B, T, d_model)\n",
    "        x = self.norm(x)\n",
    "\n",
    "        # linear layer: outputs logits\n",
    "        logits = self.linear(x) # (B, T, d_model) ==> (B, T, vocab_size)\n",
    "        return logits"
   ]
  },
  {
   "cell_type": "markdown",
   "metadata": {},
   "source": [
    "# GPT Configuration"
   ]
  },
  {
   "cell_type": "code",
   "execution_count": 13,
   "metadata": {},
   "outputs": [
    {
     "data": {
      "text/plain": [
       "GPTConfig(use_flash_att=True, d_model=288, num_layers=6, num_heads=6, maxlen=256, vocab_size=32000, output_units=None, dropout_rate=0.0, use_bias=True, intializer=<function GPTConfig.<lambda> at 0x7ed1fd0d0680>)"
      ]
     },
     "execution_count": 13,
     "metadata": {},
     "output_type": "execute_result"
    }
   ],
   "source": [
    "@dataclass\n",
    "class GPTConfig:\n",
    "    \"\"\"GPT 15M Configuration\"\"\"\n",
    "    use_flash_att:bool=USE_FLASH_ATT\n",
    "    d_model:int = 288\n",
    "    num_layers:int = 6\n",
    "    num_heads:int = 6\n",
    "    maxlen:int = 256\n",
    "    vocab_size:int = VOCAB_SIZE\n",
    "    output_units:int = None\n",
    "    assert d_model % 2 == 0\n",
    "    assert d_model % num_heads == 0\n",
    "    dropout_rate:float = 0.0\n",
    "    use_bias:bool = True\n",
    "    intializer:Callable = lambda std: nn.initializers.RandomNormal(mean=0.0, stddev=std)\n",
    "\n",
    "GPTConfig()"
   ]
  },
  {
   "attachments": {
    "image-3.png": {
     "image/png": "[encoded data removed]"
    }
   },
   "cell_type": "markdown",
   "metadata": {},
   "source": [
    "# Loss vs Learning Rate\n",
    "\n",
    "```python\n",
    "def LossvsLR(): # (B, maxlen)\n",
    "    model = build_model(\n",
    "        Transformer(causal=True, config=GPTArgs), \n",
    "        (2, GPTArgs.max_context_length), \n",
    "        (0, GPTArgs.vocab_size-1)\n",
    "        )\n",
    "    inputs = jrand.randint(jrand.PRNGKey(32344), shape=(2, GPTArgs.max_context_length+1), minval=0, maxval=GPTArgs.vocab_size-1)\n",
    "\n",
    "    def get_loss(lr, model, inputs):\n",
    "        x, y = inputs[:, :-1], inputs[:, 1:]\n",
    "        model.compile(\n",
    "            optimizer=nn.optimizers.AdamW(\n",
    "                learning_rate=lr, beta_1=0.9, beta_2=0.95, clipvalue=1e0, weight_decay=1e-1),\n",
    "            loss=nn.losses.SparseCategoricalCrossentropy(from_logits=True)\n",
    "        )\n",
    "        loss = model.train_on_batch(x=x, y=y)\n",
    "        return loss.tolist()\n",
    "    \n",
    "    lrs = (10**jnp.linspace(-6, -2, 100)).tolist()\n",
    "    losses = [get_loss(lr, model, inputs) for lr in lrs]\n",
    "    # losses = jax.vmap(get_loss, in_axes=(None, 0))(model, lrs)\n",
    "    return lrs, losses\n",
    "\n",
    "lr, loss = LossvsLR()\n",
    "\n",
    "plt.figure(figsize=(15,5))\n",
    "plt.xlabel(\"Log base10 Learning Rate: Do 10^(x) to get actual learning rate\")\n",
    "plt.ylabel(\"Loss\")\n",
    "plt.xticks([-6, -5, -4]+jnp.arange(-3.5, -2.0, 0.1).tolist())\n",
    "plt.plot(jnp.log10(jnp.array(lr)), loss)\n",
    "plt.show()\n",
    "# gonna set 5e-4 as minimum learning rate, log(5e-4)=−3.301029996 from graph\n",
    "```\n",
    "![image-3.png](attachment:image-3.png)"
   ]
  },
  {
   "cell_type": "markdown",
   "metadata": {},
   "source": [
    "```python\n",
    ">>>10**jnp.arange(-3.5, -2.0, 0.1), jnp.arange(-3.5, -2.0, 0.1)\n",
    "(Array([0.00031623, 0.00039811, 0.00050119, 0.00063096, 0.00079433,\n",
    "        0.001     , 0.00125892, 0.00158489, 0.00199526, 0.00251188,\n",
    "        0.00316227, 0.00398106, 0.00501186, 0.00630956, 0.00794326],      dtype=float32),\n",
    " Array([-3.5      , -3.4      , -3.3000002, -3.2000003, -3.1000004,\n",
    "        -3.0000005, -2.9000006, -2.8000007, -2.7000008, -2.6000009,\n",
    "        -2.500001 , -2.400001 , -2.3000011, -2.2000012, -2.1000013],      dtype=float32))\n",
    "```"
   ]
  },
  {
   "cell_type": "markdown",
   "metadata": {},
   "source": [
    "# Training Arguments"
   ]
  },
  {
   "cell_type": "code",
   "execution_count": 14,
   "metadata": {},
   "outputs": [
    {
     "data": {
      "text/plain": [
       "TArgs(batch_size=128, num_grad_accumalation_steps=4, init_lr=1e-07, max_lr=0.0005, min_lr=0.0, num_steps=100000, warmup_steps=1000, decay_steps=100000, beta1=0.9, beta2=0.95, weight_decay=0.1, clipnorm=1.0, resume_from_checkpoint=None, return_best_train_states=True, checkpoint_dir='ckpt/stories32000', eval_freq=2000, eval_steps=100, patience=15)"
      ]
     },
     "execution_count": 14,
     "metadata": {},
     "output_type": "execute_result"
    }
   ],
   "source": [
    "@dataclass\n",
    "class TArgs:\n",
    "    batch_size:int = 128 # micro-mini-batch_size if num_grad_accumalation_steps > 1\n",
    "    num_grad_accumalation_steps:int = 4\n",
    "    ## num_tok_per_update = batch_size * maxlen * gradient_accumalation = 128 * 256 * 4 = 131_072\n",
    "\n",
    "    # lr scheduler\n",
    "    init_lr:float = 1e-7\n",
    "    max_lr:float = 5e-4\n",
    "    min_lr:float = 0.0*max_lr # The factor is usually 0.1 or 0.0\n",
    "    num_steps:int = 100_000\n",
    "    warmup_steps:int = 1000\n",
    "    decay_steps:int = num_steps\n",
    "\n",
    "    # optimizer\n",
    "    beta1:float = 0.9\n",
    "    beta2:float = 0.95\n",
    "    weight_decay:float = 1e-1\n",
    "    clipnorm:float = 1e0\n",
    "\n",
    "    # training\n",
    "    resume_from_checkpoint:Optional[str] = None\n",
    "    return_best_train_states:bool = True\n",
    "    checkpoint_dir:str = \"ckpt/stories32000\"\n",
    "    eval_freq:int = 2000\n",
    "    eval_steps:int = 100\n",
    "    patience:int = 15 # early stopping with restore best weights\n",
    "\n",
    "TArgs()"
   ]
  },
  {
   "cell_type": "markdown",
   "metadata": {},
   "source": [
    "# Model"
   ]
  },
  {
   "cell_type": "code",
   "execution_count": 15,
   "metadata": {},
   "outputs": [
    {
     "data": {
      "text/html": [
       "<pre style=\"white-space:pre;overflow-x:auto;line-height:normal;font-family:Menlo,'DejaVu Sans Mono',consolas,'Courier New',monospace\"><span style=\"font-weight: bold\">Model: \"transformer\"</span>\n",
       "</pre>\n"
      ],
      "text/plain": [
       "\u001b[1mModel: \"transformer\"\u001b[0m\n"
      ]
     },
     "metadata": {},
     "output_type": "display_data"
    },
    {
     "data": {
      "text/html": [
       "<pre style=\"white-space:pre;overflow-x:auto;line-height:normal;font-family:Menlo,'DejaVu Sans Mono',consolas,'Courier New',monospace\">┏━━━━━━━━━━━━━━━━━━━━━━━━━━━━━━━━━┳━━━━━━━━━━━━━━━━━━━━━━━━━━━┳━━━━━━━━━━━━┓\n",
       "┃<span style=\"font-weight: bold\"> Layer (type)                    </span>┃<span style=\"font-weight: bold\"> Output Shape              </span>┃<span style=\"font-weight: bold\">    Param # </span>┃\n",
       "┡━━━━━━━━━━━━━━━━━━━━━━━━━━━━━━━━━╇━━━━━━━━━━━━━━━━━━━━━━━━━━━╇━━━━━━━━━━━━┩\n",
       "│ dropout (<span style=\"color: #0087ff; text-decoration-color: #0087ff\">Dropout</span>)               │ ?                         │          <span style=\"color: #00af00; text-decoration-color: #00af00\">0</span> │\n",
       "├─────────────────────────────────┼───────────────────────────┼────────────┤\n",
       "│ embedding (<span style=\"color: #0087ff; text-decoration-color: #0087ff\">Embedding</span>)           │ ?                         │  <span style=\"color: #00af00; text-decoration-color: #00af00\">9,216,000</span> │\n",
       "├─────────────────────────────────┼───────────────────────────┼────────────┤\n",
       "│ transformer_block               │ ?                         │    <span style=\"color: #00af00; text-decoration-color: #00af00\">998,208</span> │\n",
       "│ (<span style=\"color: #0087ff; text-decoration-color: #0087ff\">TransformerBlock</span>)              │                           │            │\n",
       "├─────────────────────────────────┼───────────────────────────┼────────────┤\n",
       "│ transformer_block_1             │ ?                         │    <span style=\"color: #00af00; text-decoration-color: #00af00\">998,208</span> │\n",
       "│ (<span style=\"color: #0087ff; text-decoration-color: #0087ff\">TransformerBlock</span>)              │                           │            │\n",
       "├─────────────────────────────────┼───────────────────────────┼────────────┤\n",
       "│ transformer_block_2             │ ?                         │    <span style=\"color: #00af00; text-decoration-color: #00af00\">998,208</span> │\n",
       "│ (<span style=\"color: #0087ff; text-decoration-color: #0087ff\">TransformerBlock</span>)              │                           │            │\n",
       "├─────────────────────────────────┼───────────────────────────┼────────────┤\n",
       "│ transformer_block_3             │ ?                         │    <span style=\"color: #00af00; text-decoration-color: #00af00\">998,208</span> │\n",
       "│ (<span style=\"color: #0087ff; text-decoration-color: #0087ff\">TransformerBlock</span>)              │                           │            │\n",
       "├─────────────────────────────────┼───────────────────────────┼────────────┤\n",
       "│ transformer_block_4             │ ?                         │    <span style=\"color: #00af00; text-decoration-color: #00af00\">998,208</span> │\n",
       "│ (<span style=\"color: #0087ff; text-decoration-color: #0087ff\">TransformerBlock</span>)              │                           │            │\n",
       "├─────────────────────────────────┼───────────────────────────┼────────────┤\n",
       "│ transformer_block_5             │ ?                         │    <span style=\"color: #00af00; text-decoration-color: #00af00\">998,208</span> │\n",
       "│ (<span style=\"color: #0087ff; text-decoration-color: #0087ff\">TransformerBlock</span>)              │                           │            │\n",
       "├─────────────────────────────────┼───────────────────────────┼────────────┤\n",
       "│ layer_normalization_12          │ ?                         │        <span style=\"color: #00af00; text-decoration-color: #00af00\">576</span> │\n",
       "│ (<span style=\"color: #0087ff; text-decoration-color: #0087ff\">LayerNormalization</span>)            │                           │            │\n",
       "├─────────────────────────────────┼───────────────────────────┼────────────┤\n",
       "│ tie_weights (<span style=\"color: #0087ff; text-decoration-color: #0087ff\">TieWeights</span>)        │ ?                         │  <span style=\"color: #00af00; text-decoration-color: #00af00\">9,248,000</span> │\n",
       "└─────────────────────────────────┴───────────────────────────┴────────────┘\n",
       "</pre>\n"
      ],
      "text/plain": [
       "┏━━━━━━━━━━━━━━━━━━━━━━━━━━━━━━━━━┳━━━━━━━━━━━━━━━━━━━━━━━━━━━┳━━━━━━━━━━━━┓\n",
       "┃\u001b[1m \u001b[0m\u001b[1mLayer (type)                   \u001b[0m\u001b[1m \u001b[0m┃\u001b[1m \u001b[0m\u001b[1mOutput Shape             \u001b[0m\u001b[1m \u001b[0m┃\u001b[1m \u001b[0m\u001b[1m   Param #\u001b[0m\u001b[1m \u001b[0m┃\n",
       "┡━━━━━━━━━━━━━━━━━━━━━━━━━━━━━━━━━╇━━━━━━━━━━━━━━━━━━━━━━━━━━━╇━━━━━━━━━━━━┩\n",
       "│ dropout (\u001b[38;5;33mDropout\u001b[0m)               │ ?                         │          \u001b[38;5;34m0\u001b[0m │\n",
       "├─────────────────────────────────┼───────────────────────────┼────────────┤\n",
       "│ embedding (\u001b[38;5;33mEmbedding\u001b[0m)           │ ?                         │  \u001b[38;5;34m9,216,000\u001b[0m │\n",
       "├─────────────────────────────────┼───────────────────────────┼────────────┤\n",
       "│ transformer_block               │ ?                         │    \u001b[38;5;34m998,208\u001b[0m │\n",
       "│ (\u001b[38;5;33mTransformerBlock\u001b[0m)              │                           │            │\n",
       "├─────────────────────────────────┼───────────────────────────┼────────────┤\n",
       "│ transformer_block_1             │ ?                         │    \u001b[38;5;34m998,208\u001b[0m │\n",
       "│ (\u001b[38;5;33mTransformerBlock\u001b[0m)              │                           │            │\n",
       "├─────────────────────────────────┼───────────────────────────┼────────────┤\n",
       "│ transformer_block_2             │ ?                         │    \u001b[38;5;34m998,208\u001b[0m │\n",
       "│ (\u001b[38;5;33mTransformerBlock\u001b[0m)              │                           │            │\n",
       "├─────────────────────────────────┼───────────────────────────┼────────────┤\n",
       "│ transformer_block_3             │ ?                         │    \u001b[38;5;34m998,208\u001b[0m │\n",
       "│ (\u001b[38;5;33mTransformerBlock\u001b[0m)              │                           │            │\n",
       "├─────────────────────────────────┼───────────────────────────┼────────────┤\n",
       "│ transformer_block_4             │ ?                         │    \u001b[38;5;34m998,208\u001b[0m │\n",
       "│ (\u001b[38;5;33mTransformerBlock\u001b[0m)              │                           │            │\n",
       "├─────────────────────────────────┼───────────────────────────┼────────────┤\n",
       "│ transformer_block_5             │ ?                         │    \u001b[38;5;34m998,208\u001b[0m │\n",
       "│ (\u001b[38;5;33mTransformerBlock\u001b[0m)              │                           │            │\n",
       "├─────────────────────────────────┼───────────────────────────┼────────────┤\n",
       "│ layer_normalization_12          │ ?                         │        \u001b[38;5;34m576\u001b[0m │\n",
       "│ (\u001b[38;5;33mLayerNormalization\u001b[0m)            │                           │            │\n",
       "├─────────────────────────────────┼───────────────────────────┼────────────┤\n",
       "│ tie_weights (\u001b[38;5;33mTieWeights\u001b[0m)        │ ?                         │  \u001b[38;5;34m9,248,000\u001b[0m │\n",
       "└─────────────────────────────────┴───────────────────────────┴────────────┘\n"
      ]
     },
     "metadata": {},
     "output_type": "display_data"
    },
    {
     "data": {
      "text/html": [
       "<pre style=\"white-space:pre;overflow-x:auto;line-height:normal;font-family:Menlo,'DejaVu Sans Mono',consolas,'Courier New',monospace\"><span style=\"font-weight: bold\"> Total params: </span><span style=\"color: #00af00; text-decoration-color: #00af00\">15,237,824</span> (58.13 MB)\n",
       "</pre>\n"
      ],
      "text/plain": [
       "\u001b[1m Total params: \u001b[0m\u001b[38;5;34m15,237,824\u001b[0m (58.13 MB)\n"
      ]
     },
     "metadata": {},
     "output_type": "display_data"
    },
    {
     "data": {
      "text/html": [
       "<pre style=\"white-space:pre;overflow-x:auto;line-height:normal;font-family:Menlo,'DejaVu Sans Mono',consolas,'Courier New',monospace\"><span style=\"font-weight: bold\"> Trainable params: </span><span style=\"color: #00af00; text-decoration-color: #00af00\">15,237,824</span> (58.13 MB)\n",
       "</pre>\n"
      ],
      "text/plain": [
       "\u001b[1m Trainable params: \u001b[0m\u001b[38;5;34m15,237,824\u001b[0m (58.13 MB)\n"
      ]
     },
     "metadata": {},
     "output_type": "display_data"
    },
    {
     "data": {
      "text/html": [
       "<pre style=\"white-space:pre;overflow-x:auto;line-height:normal;font-family:Menlo,'DejaVu Sans Mono',consolas,'Courier New',monospace\"><span style=\"font-weight: bold\"> Non-trainable params: </span><span style=\"color: #00af00; text-decoration-color: #00af00\">0</span> (0.00 B)\n",
       "</pre>\n"
      ],
      "text/plain": [
       "\u001b[1m Non-trainable params: \u001b[0m\u001b[38;5;34m0\u001b[0m (0.00 B)\n"
      ]
     },
     "metadata": {},
     "output_type": "display_data"
    }
   ],
   "source": [
    "model = Transformer(causal=True, config=GPTConfig, output_activation=None)\n",
    "model = build_model(model, (2, GPTConfig.maxlen), (0, GPTConfig.vocab_size-1))\n",
    "model.summary()"
   ]
  },
  {
   "cell_type": "markdown",
   "metadata": {},
   "source": [
    "# Load data\n",
    "```python\n",
    "Dataset:\n",
    "\tNumber of stories: 2745331\n",
    "\tNumber of tokens in the dataset: 588585210\n",
    "\tNumber of unique tokens in the dataset: 14776\n",
    "\tAvg length of story: 214.3949891652409\n",
    "```"
   ]
  },
  {
   "cell_type": "code",
   "execution_count": 16,
   "metadata": {},
   "outputs": [
    {
     "name": "stdout",
     "output_type": "stream",
     "text": [
      "Dataset is already pretokenized.\n"
     ]
    }
   ],
   "source": [
    "pretokenize_and_save_dataset(TRAIN_FILE_PATH, VAL_FILE_PATH, num_shards=50)\n",
    "\n",
    "ds_iterater = partial(\n",
    "    BatchedDataset.iter_ds,\n",
    "    batch_size=TArgs.batch_size,\n",
    "    device=\"cpu\",\n",
    "    num_workers=0,\n",
    "    maxlen=GPTConfig.maxlen,\n",
    "    seed=42\n",
    ")\n",
    "train_iterator, val_iterator = (\n",
    "    ds_iterater(split=\"train\"),\n",
    "    ds_iterater(split=\"val\")\n",
    ")"
   ]
  },
  {
   "cell_type": "markdown",
   "metadata": {},
   "source": [
    "# Lr schedule"
   ]
  },
  {
   "cell_type": "code",
   "execution_count": 17,
   "metadata": {},
   "outputs": [],
   "source": [
    "class LearningRateSchedule:\n",
    "    def __init__(self, start_iter:int):\n",
    "        self.start_iter = start_iter\n",
    "        self.learning_rate = nn.optimizers.schedules.CosineDecay(\n",
    "            initial_learning_rate=TArgs.min_lr,\n",
    "            decay_steps=TArgs.decay_steps,\n",
    "            warmup_steps=TArgs.warmup_steps,\n",
    "            warmup_target=TArgs.max_lr,\n",
    "            alpha=TArgs.min_lr/TArgs.max_lr\n",
    "        )\n",
    "\n",
    "    def __call__(self, step:int):\n",
    "        return self.learning_rate(step+self.start_iter)"
   ]
  },
  {
   "cell_type": "code",
   "execution_count": 19,
   "metadata": {},
   "outputs": [
    {
     "data": {
      "image/png": "[encoded data removed]",
      "text/plain": [
       "<Figure size 640x480 with 1 Axes>"
      ]
     },
     "metadata": {},
     "output_type": "display_data"
    }
   ],
   "source": [
    "steps = jnp.arange(1, TArgs.num_steps+1)\n",
    "lrs = jax.vmap(LearningRateSchedule(0).learning_rate)(steps)\n",
    "\n",
    "plt.plot(steps, lrs); del lrs, steps\n",
    "plt.grid(True)\n",
    "plt.xlabel(\"Steps\")\n",
    "plt.ylabel(\"Learning Rate\")\n",
    "plt.title(\"Learning Rate vs Steps\")\n",
    "plt.show()"
   ]
  },
  {
   "cell_type": "markdown",
   "metadata": {},
   "source": [
    "# Save and Load model"
   ]
  },
  {
   "cell_type": "code",
   "execution_count": 20,
   "metadata": {},
   "outputs": [],
   "source": [
    "def save_object(dir_suffix_ftype:str, obj:Any):\n",
    "    \"\"\"\n",
    "    dir_suffix_ftype: directory suffix and file type separated by \"|\"\n",
    "    obj: Anything which is to be stored\n",
    "    \"\"\"\n",
    "    dir, suffix, ftype = dir_suffix_ftype.split(\"|\"); path = os.path.join(dir, \"\".join([suffix, f\".{ftype}\"]))\n",
    "    os.makedirs(name=dir, exist_ok=True)\n",
    "    with open(path, \"wb\") as file:\n",
    "        pickle.dump(obj=obj, file=file, protocol=pickle.HIGHEST_PROTOCOL)\n",
    "    return path"
   ]
  },
  {
   "cell_type": "code",
   "execution_count": 21,
   "metadata": {},
   "outputs": [],
   "source": [
    "def load_object(path:str):\n",
    "    with open(path, \"rb\") as file:\n",
    "        obj = pickle.load(file)\n",
    "    return obj"
   ]
  },
  {
   "cell_type": "markdown",
   "metadata": {},
   "source": [
    "# Training\n",
    "\n",
    "* Segregate trainable variables for building different optimizers\n",
    "* Again combine them in the same order as it was (before segregating them) for `model.stateless_call`\n",
    "* Segregate trainable variables for optimization of trainable variables for different optimizers"
   ]
  },
  {
   "cell_type": "code",
   "execution_count": 22,
   "metadata": {},
   "outputs": [],
   "source": [
    "class ParamGradManager:\n",
    "    def __init__(self, trainable_vars:list):\n",
    "        order_before_segregate = [v.path for v in trainable_vars]\n",
    "        order_after_segregate = (\n",
    "            [v.path for v in trainable_vars if len(v.shape)!=1] +\n",
    "            [v.path for v in trainable_vars if len(v.shape)==1]\n",
    "        )\n",
    "        self.idx = [order_after_segregate.index(b) for b in order_before_segregate]\n",
    "\n",
    "    def filter_obj(self, trainable_obj:list):\n",
    "        \"\"\"can be grads or params\"\"\"\n",
    "        decay_obj = [v for v in trainable_obj if len(v.shape)!=1]\n",
    "        nodecay_obj = [v for v in trainable_obj if len(v.shape)==1]\n",
    "        return decay_obj, nodecay_obj\n",
    "    \n",
    "    def combine_obj(self, decay_obj:list, nodecay_obj:list):\n",
    "        obj = decay_obj + nodecay_obj\n",
    "        return [obj[i] for i in self.idx]"
   ]
  },
  {
   "cell_type": "code",
   "execution_count": 23,
   "metadata": {},
   "outputs": [],
   "source": [
    "start_iter = 0\n",
    "if TArgs.resume_from_checkpoint is not None:\n",
    "    best_ckpt = load_object(TArgs.resume_from_checkpoint)\n",
    "    (\n",
    "        trainable_vars,\n",
    "        non_trainable_vars,\n",
    "        (decay_opt_vars, nodecay_opt_vars),\n",
    "        start_iter,\n",
    "        best_val_loss,\n",
    "        training_losses\n",
    "    ) = best_ckpt\n",
    "    for v, a in zip(model.trainable_variables, trainable_vars):\n",
    "        v.assign(a)\n",
    "    trainable_vars = model.trainable_variables\n",
    "    param_grad_manager = ParamGradManager(trainable_vars)"
   ]
  },
  {
   "cell_type": "code",
   "execution_count": 24,
   "metadata": {},
   "outputs": [],
   "source": [
    "learning_rate = LearningRateSchedule(start_iter=start_iter)\n",
    "adamw = lambda weight_decay: nn.optimizers.AdamW(\n",
    "        learning_rate=learning_rate,\n",
    "        beta_1=TArgs.beta1,\n",
    "        beta_2=TArgs.beta2,\n",
    "        clipnorm=TArgs.clipnorm,\n",
    "        weight_decay=weight_decay\n",
    ")\n",
    "decay_optimizer = adamw(weight_decay=TArgs.weight_decay)\n",
    "nodecay_optimizer = adamw(weight_decay=0.0)\n",
    "loss_fn = nn.losses.SparseCategoricalCrossentropy(from_logits=True)"
   ]
  },
  {
   "cell_type": "code",
   "execution_count": 25,
   "metadata": {},
   "outputs": [],
   "source": [
    "step = 0; wait = 0\n",
    "if TArgs.resume_from_checkpoint is None:\n",
    "    training_losses = {\"train\": []}\n",
    "    trainable_vars = model.trainable_variables\n",
    "    non_trainable_vars = model.non_trainable_variables\n",
    "    \n",
    "    param_grad_manager = ParamGradManager(trainable_vars)\n",
    "    for param, opt in zip(param_grad_manager.filter_obj(trainable_vars), [decay_optimizer, nodecay_optimizer]):\n",
    "        opt.build(param)\n",
    "    \n",
    "    decay_opt_vars, nodecay_opt_vars = decay_optimizer.variables, nodecay_optimizer.variables\n",
    "    best_val_loss = 1e8\n",
    "    \n",
    "    best_ckpt = (\n",
    "        trainable_vars,\n",
    "        non_trainable_vars,\n",
    "        (decay_opt_vars, nodecay_opt_vars),\n",
    "        step,\n",
    "        best_val_loss,\n",
    "        training_losses\n",
    "    )"
   ]
  },
  {
   "cell_type": "code",
   "execution_count": 26,
   "metadata": {},
   "outputs": [],
   "source": [
    "@jax.jit\n",
    "def get_accuracy(y_true:Array, logits:Array): # (B, T), (B, T, vocab_size)\n",
    "    batched_num_correct = (logits.argmax(-1)==y_true).sum(-1)/y_true.shape[-1] # (B,)\n",
    "    accuracy = batched_num_correct.mean()\n",
    "    return accuracy\n",
    "\n",
    "@jax.jit\n",
    "def compute_loss(\n",
    "        trainable_vars:list,\n",
    "        non_trainable_vars:list,\n",
    "        X_batch:Array, y_batch:Array,\n",
    "        num_grad_accumalation_steps:int\n",
    "    ):\n",
    "    logits, non_trainable_vars = model.stateless_call(\n",
    "        trainable_vars,  non_trainable_vars,\n",
    "        X_batch)\n",
    "    loss = loss_fn(y_batch, logits)\n",
    "    accuracy = get_accuracy(y_batch, logits)\n",
    "    unscaled_loss = loss/num_grad_accumalation_steps\n",
    "    # scaled_loss = optimizer.scale_loss(unscaled_loss)\n",
    "    return unscaled_loss, (unscaled_loss, accuracy, non_trainable_vars)\n",
    "grad_fn = jax.value_and_grad(compute_loss, has_aux=True)\n",
    "\n",
    "@partial(jax.jit, static_argnums=-1)\n",
    "def mini_step(train_state:Sequence[list], X_batch:Array, y_batch:Array, num_grad_accumalation_steps:int):\n",
    "    trainable_vars, non_trainable_vars = train_state\n",
    "\n",
    "    (_, aux), grad = grad_fn(\n",
    "        trainable_vars, non_trainable_vars, X_batch, y_batch,\n",
    "        num_grad_accumalation_steps\n",
    "    )\n",
    "    (unscaled_loss, accuracy, non_trainable_vars) = aux\n",
    "    return grad, (unscaled_loss, accuracy), (trainable_vars, non_trainable_vars)\n",
    "\n",
    "def optimizer_apply(optimizer, opt_vars, grads, trainable_vars):\n",
    "    trainable_vars, opt_vars = optimizer.stateless_apply(opt_vars, grads, trainable_vars)\n",
    "    return trainable_vars, opt_vars\n",
    "\n",
    "decay_opt_apply = jax.jit(fun=lambda opt_vars, grads, trainable_vars: optimizer_apply(\n",
    "    decay_optimizer, opt_vars, grads, trainable_vars\n",
    "))\n",
    "nodecay_opt_apply = jax.jit(fun=lambda opt_vars, grads, trainable_vars: optimizer_apply(\n",
    "    nodecay_optimizer, opt_vars, grads, trainable_vars\n",
    "))\n",
    "\n",
    "def update_params(\n",
    "    grads:list,\n",
    "    trainable_vars:list,\n",
    "    optimizer_vars:tuple[list, list],\n",
    "):\n",
    "    decay_grads, nodecay_grads = param_grad_manager.filter_obj(grads)\n",
    "    decay_trainable_vars, nodecay_trainable_vars = param_grad_manager.filter_obj(trainable_vars)\n",
    "    decay_opt_vars, nodecay_opt_vars = optimizer_vars\n",
    "    \n",
    "    decay_trainable_vars, decay_opt_vars = decay_opt_apply(\n",
    "        decay_opt_vars, decay_grads, decay_trainable_vars\n",
    "    )\n",
    "    nodecay_trainable_vars, nodecay_opt_vars = nodecay_opt_apply(\n",
    "        nodecay_opt_vars, nodecay_grads, nodecay_trainable_vars\n",
    "    )\n",
    "    trainable_vars1 = param_grad_manager.combine_obj(decay_trainable_vars, nodecay_trainable_vars)\n",
    "    assert (\n",
    "        [v.shape for v in trainable_vars1] == \n",
    "        [v.shape for v in trainable_vars]), (\n",
    "            f\"train vars aft: {[v.shape for v in trainable_vars1]}\\n\\ntrain vars bef: {[v.shape for v in trainable_vars]}\"\n",
    "            )\n",
    "    return trainable_vars1, (decay_opt_vars, nodecay_opt_vars)\n",
    "\n",
    "def evaluate(train_state:Sequence[list]):\n",
    "    trainable_vars, non_trainable_vars = train_state\n",
    "    mean_losses = []; mean_accuracies = []\n",
    "    for eval_batch_iter in [train_iterator, val_iterator]:\n",
    "        X_batch, y_batch = next(eval_batch_iter)\n",
    "        losses = jnp.empty(TArgs.eval_steps)\n",
    "        accuracies = jnp.empty_like(losses)\n",
    "\n",
    "        for eval_step in range(TArgs.eval_steps):\n",
    "            _, (unscaled_loss, accuracy, non_trainable_vars) = compute_loss(\n",
    "                trainable_vars, non_trainable_vars,\n",
    "                jnp.array(X_batch), jnp.array(y_batch), 1\n",
    "            )\n",
    "            losses = losses.at[eval_step].set(unscaled_loss)\n",
    "            accuracies = accuracies.at[eval_step].set(accuracy)\n",
    "            X_batch, y_batch = next(eval_batch_iter)\n",
    "        mean_losses.append(losses.mean())\n",
    "        mean_accuracies.append(accuracies.mean())\n",
    "    return mean_losses, mean_accuracies # ([train_loss, val_loss], [train_accuracy, val_accuracy])"
   ]
  },
  {
   "cell_type": "code",
   "execution_count": null,
   "metadata": {},
   "outputs": [],
   "source": [
    "wait = 0\n",
    "best_step = step\n",
    "\n",
    "t0 = time.time()\n",
    "print(\"Training about to start...\")\n",
    "X_batch, y_batch = next(train_iterator)\n",
    "# TODO: Optimize Train Loop to reduce time per step\n",
    "while True:\n",
    "    # condition to terminate\n",
    "    if step > TArgs.num_steps or wait > TArgs.patience:\n",
    "        print(f\"Early Stopping at Step {step}.\" if wait > TArgs.patience else \"Training Terminated.\")\n",
    "        break\n",
    "    \n",
    "    # train model\n",
    "    grads = jax.tree_util.tree_map(jnp.zeros_like, trainable_vars)\n",
    "    for _ in range(TArgs.num_grad_accumalation_steps):\n",
    "        grad, (loss, accuracy), (trainable_vars, non_trainable_vars) = mini_step(\n",
    "            (trainable_vars, non_trainable_vars),\n",
    "            jnp.array(X_batch), jnp.array(y_batch),\n",
    "            TArgs.num_grad_accumalation_steps\n",
    "        )\n",
    "        grads = jax.tree_util.tree_map(\n",
    "            lambda g1, g2: jnp.add(g1, g2), grads, grad\n",
    "        ) # sum grads for grad accumation\n",
    "        X_batch, y_batch = next(train_iterator)\n",
    "    grad = None # save memory\n",
    "\n",
    "    loss = loss*TArgs.num_grad_accumalation_steps # loss from last mini-step\n",
    "    \n",
    "    trainable_vars, (decay_opt_vars, nodecay_opt_vars) = update_params(\n",
    "        grads, trainable_vars, (decay_opt_vars, nodecay_opt_vars)\n",
    "    )\n",
    "    grads = None # save memory\n",
    "\n",
    "    if step % TArgs.eval_freq == 0 or step == TArgs.num_steps:\n",
    "        print(\"Estimating Losses...\")\n",
    "        mean_losses, mean_accuracies = evaluate((trainable_vars, non_trainable_vars))\n",
    "        print(\n",
    "            f\"\\t| Training Loss: {mean_losses[0]:.4f} || Training Accuracy: {mean_accuracies[0]:.4f} |\" \n",
    "            f\"| Validation Loss: {mean_losses[1]:.4f} || Validation Accuracy: {mean_accuracies[1]:.4f} |\"\n",
    "        )\n",
    "        \n",
    "        _ = save_object(\n",
    "            TArgs.checkpoint_dir+f\"|checkpoint|gpt\",\n",
    "            obj=best_ckpt\n",
    "        )\n",
    "        print(f\"Saved checkpoint of step {step}.\")\n",
    "\n",
    "        if mean_losses[1] < best_val_loss:\n",
    "            best_val_loss = mean_losses[1]\n",
    "            best_ckpt = (\n",
    "                trainable_vars, \n",
    "                non_trainable_vars, \n",
    "                (decay_opt_vars, nodecay_opt_vars),\n",
    "                step,\n",
    "                best_val_loss\n",
    "            )\n",
    "            best_step = step\n",
    "            wait = 0\n",
    "        else:\n",
    "            wait += 1\n",
    "\n",
    "    # time\n",
    "    t1 = time.time()\n",
    "    dt = t1-t0; t0 = t1\n",
    "\n",
    "    # print the essentials\n",
    "    print(\n",
    "        f\"| Step: {step} || Loss: {loss:.4f} || Accuracy: {accuracy:.4f} |\"\n",
    "        f\"| LR: {learning_rate(step):e} || dt: {dt*1000:.2f}ms |\"\n",
    "    )\n",
    "    training_losses[\"train\"].append(loss.tolist())\n",
    "    step += 1\n",
    "\n",
    "train_state = (trainable_vars, non_trainable_vars)\n",
    "if TArgs.return_best_train_states:\n",
    "    print(f\"Best Weights are from Step {best_step}\")\n",
    "    print(\"With an Estimated Validation Loss of\", best_val_loss)\n",
    "    train_state = best_ckpt[:2] \n",
    "# clear cell output, too large"
   ]
  },
  {
   "cell_type": "code",
   "execution_count": 28,
   "metadata": {},
   "outputs": [
    {
     "data": {
      "image/png": "[encoded data removed]",
      "text/plain": [
       "<Figure size 640x480 with 1 Axes>"
      ]
     },
     "metadata": {},
     "output_type": "display_data"
    }
   ],
   "source": [
    "plt.plot(training_losses[\"train\"])\n",
    "plt.title(\"Training Loss over Number of Steps\")\n",
    "plt.xlabel(\"Steps\")\n",
    "plt.ylabel(\"Train Loss\")\n",
    "plt.xticks(range(0, TArgs.num_steps+3_000, 3_000), rotation=90)\n",
    "plt.yticks(jnp.arange(0, 11, 0.4).tolist())\n",
    "plt.grid(True)\n",
    "plt.show()\n",
    "\n",
    "## karpathy's llama2 logs\n",
    "# 200: 5.54\n",
    "# 600: 2.34\n",
    "# 1st eval: train: 1.47 val: 1.47\n",
    "# 2400: 1.48\n",
    "# 3226 | loss 1.3816 | lr 4.993765e-04 | 260.28ms | mfu 15.25%\n",
    "\n",
    "# NOTE: This model takes ~490ms per step, have to optimize it (maybe because of the gradient accumulation loop)."
   ]
  },
  {
   "cell_type": "code",
   "execution_count": 41,
   "metadata": {},
   "outputs": [
    {
     "data": {
      "text/plain": [
       "'ckpt/stories32000/train_state.gpt'"
      ]
     },
     "execution_count": 41,
     "metadata": {},
     "output_type": "execute_result"
    }
   ],
   "source": [
    "save_object(\n",
    "    TArgs.checkpoint_dir+f\"|train_state_15M|gpt\",\n",
    "    obj=train_state\n",
    ")"
   ]
  },
  {
   "cell_type": "markdown",
   "metadata": {},
   "source": [
    "# Sampling from model"
   ]
  },
  {
   "cell_type": "code",
   "execution_count": 29,
   "metadata": {},
   "outputs": [],
   "source": [
    "class GenerateTokens:\n",
    "    def __init__(self, model:nn.Model, train_state:Sequence[list], maxlen:int, sos:int):\n",
    "        self.SOS = jnp.array([[sos]])\n",
    "        self.model = model\n",
    "        self.train_state = train_state\n",
    "        self.maxlen = maxlen\n",
    "    \n",
    "    @staticmethod\n",
    "    @jax.jit\n",
    "    def randCategorical(key:Array, logits:Array):\n",
    "        idx_next = jrand.categorical(key, logits)[..., None]\n",
    "        return idx_next # (1, 1)\n",
    "\n",
    "    @staticmethod\n",
    "    # TODO(VachanVY): Debug when jitted\n",
    "    # @partial(jax.jit, static_argnums=-1)\n",
    "    def topK(key:Array, logits:Array, k:Array):\n",
    "        if jnp.where(k==1, True, False):\n",
    "            idx_next = logits.argmax(-1, keepdims=True)\n",
    "            return idx_next\n",
    "        logits, topK_idx = jax.lax.top_k(logits, k=k)\n",
    "        idx = jrand.categorical(key, logits)\n",
    "        idx_next = topK_idx[0][idx][..., None]\n",
    "        return idx_next # (1, 1)\n",
    "\n",
    "    @staticmethod\n",
    "    # TODO(VachanVY): Debug when jitted\n",
    "    # @partial(jax.jit, static_argnums=(-1, -2))\n",
    "    def topP(key:Array, logits:Array, p:float, k:int|None=None):\n",
    "        probs = jax.nn.softmax(logits, axis=-1)\n",
    "        # reverse arg sort of probs\n",
    "        rev_argsort_prob_idx = jnp.argsort(probs)[:, ::-1]\n",
    "        # True bools of idx less than p that sum less than p || False bool of least idxs that sum more than p\n",
    "        less_than_p_bools = (jnp.cumsum(probs.take(rev_argsort_prob_idx), axis=-1) <= p)\n",
    "        \n",
    "        # idx from which to mask\n",
    "        mask_from_id = less_than_p_bools.sum()+1\n",
    "        # idxs to mask\n",
    "        mask_idx = rev_argsort_prob_idx[:, mask_from_id:]\n",
    "        # -inf masked idx won't be sampled\n",
    "        logits = logits.at[:, mask_idx].set(-jnp.inf)\n",
    "        \n",
    "        if k is not None:\n",
    "            key, _ = jrand.split(key)\n",
    "            idx_next = GenerateTokens.topK(key, logits, k)\n",
    "            return idx_next # (1, 1)\n",
    "        \n",
    "        idx_next = jrand.categorical(key, logits)[..., None]\n",
    "        return idx_next # (1, 1)\n",
    "\n",
    "    @partial(jax.jit, static_argnums=0)\n",
    "    def get_logits(self, idx_cond:Array, trainable_variables:list, non_trainable_variables:list):\n",
    "        logits, non_trainable_variables = self.model.stateless_call(\n",
    "            trainable_variables, non_trainable_variables, idx_cond\n",
    "        )\n",
    "        return logits[:, -1, :], non_trainable_variables\n",
    "\n",
    "    def generate(self, idx:Array, max_tok:int=500, top_k:int|None=None, top_p:float|None=None,  temp:float=0.8, seed:int=42):\n",
    "        trainable_variables, non_trainable_variables = self.train_state\n",
    "        if (not top_k) and (not top_p):\n",
    "            sampleTok:Callable[[Array, Array], Array] = GenerateTokens.randCategorical\n",
    "        elif (top_k is not None) and (top_p is not None):\n",
    "            sampleTok:Callable[[Array, Array], Array] = lambda key, logits: GenerateTokens.topP(key, logits, top_p, top_k)\n",
    "        elif top_k is not None:\n",
    "            sampleTok:Callable[[Array, Array], Array] = lambda key, logits: GenerateTokens.topK(key, logits, top_k)\n",
    "        elif top_p is not None:\n",
    "            sampleTok:Callable[[Array, Array], Array] = lambda key, logits: GenerateTokens.topP(key, logits, top_p)\n",
    "        else:\n",
    "            assert False, \"(?_?) ¯\\(°_o)/¯\"\n",
    "        \n",
    "        key = jrand.PRNGKey(seed)\n",
    "        for _ in range(max_tok):\n",
    "            idx_cond = idx[:, -self.maxlen:] # (B=1, T)\n",
    "            logits, non_trainable_variables = self.get_logits(\n",
    "                idx_cond, trainable_variables, non_trainable_variables\n",
    "            ) # (B, vocab_size)\n",
    "            idx_next = sampleTok(key, logits/temp) # (1, 1)\n",
    "            if idx_next == self.SOS:\n",
    "                break\n",
    "            key, _ = jrand.split(key)\n",
    "            idx = jnp.concatenate((idx, idx_next), axis=-1) # (B=1, T+1)\n",
    "        return idx[0].tolist()\n",
    "\n",
    "sampler = GenerateTokens(model, train_state, GPTConfig.maxlen, sos=SOS)"
   ]
  },
  {
   "cell_type": "code",
   "execution_count": 30,
   "metadata": {},
   "outputs": [
    {
     "name": "stdout",
     "output_type": "stream",
     "text": [
      "Once upon a time, there was a little girl named Lily. She loved to play with her toys and eat yummy food. One day, she found a big, round thing in her room. It was a microscope. Lily was very curious about it.\n",
      "Lily wanted to see what was inside the microscope. She tried to open it, but it was very hard. She tried and tried, but she could not open it. Lily felt sad and wanted to find a way to open the microscope.\n",
      "Then, Lily had an idea. She asked her mom for help. Her mom showed her how to open the microscope. Lily was so happy! She looked through the microscope and saw many tiny things. She was so excited to see the tiny things. Lily and her mom had a fun day together.\n"
     ]
    }
   ],
   "source": [
    "print(spm.Decode(sampler.generate(idx=jnp.array([[SOS]+spm.Encode(\"Once upon a time,\")]), top_k=1))) # ~?mins"
   ]
  },
  {
   "cell_type": "code",
   "execution_count": 31,
   "metadata": {},
   "outputs": [
    {
     "name": "stdout",
     "output_type": "stream",
     "text": [
      "Once upon a time, there was a little boy named Tim. Tim loved to go to the gym with his mom. The gym was very big and had many fun things to do. Tim's mom was very reliable and always made sure he had a safe way to go.\n",
      "One day, Tim saw a big ball in the gym. He wanted to play with it, but he knew he had to wait for his turn. So, Tim's mom told him not to go into the gym when he was little. Tim said, \"Okay, Mom. I will wait.\"\n",
      "Tim played with his ball all day. He had so much fun at the gym. But then, the ball went into the gym and got stuck in a big puddle. Tim tried to get the ball out, but he could not. He was sad.\n",
      "Then, Tim's mom came to help him. She told him, \"It's okay, Tim. You can still have fun at the gym.\" Tim smiled and learned that it was okay to be excited, but it was also okay. He knew that waiting could lead to fun surprises.\n"
     ]
    }
   ],
   "source": [
    "print(spm.Decode(sampler.generate(idx=jnp.array([[SOS]+spm.Encode(\"Once upon a time,\")]), top_p=0.9))) # ~?mins"
   ]
  },
  {
   "cell_type": "code",
   "execution_count": 32,
   "metadata": {},
   "outputs": [
    {
     "name": "stdout",
     "output_type": "stream",
     "text": [
      "Once upon a time, there was a little girl named Sue. Sue had a toy box that she loved. The toy box was big and pretty. Sue liked to play with her toys every day.\n",
      "One day, Sue's mom said, \"Sue, we have to leave for a week.\" Sue was sad, but she knew her mom was right. So, they put her toy box away and went to the store. Sue saw a toy she liked, but she could not have it.\n",
      "Sue's mom saw her sad face and said, \"Don't worry, Sue. We will return this toy to you later.\" Sue smiled and hugged her mom. They left the store, and Sue played with her toy box all the way home.\n"
     ]
    }
   ],
   "source": [
    "print(spm.Decode(sampler.generate(idx=jnp.array([[SOS]+spm.Encode(\"Once upon a time,\")]), top_p=0.9, seed=3232323))) # ~?mins"
   ]
  },
  {
   "cell_type": "code",
   "execution_count": 33,
   "metadata": {},
   "outputs": [
    {
     "name": "stdout",
     "output_type": "stream",
     "text": [
      "Once upon a time, there was a little boy named Tim. Tim loved to play outside with his friends. One day, Tim saw a big, round thing in the sky. It was a comet! The comet was very fast and it made Tim very happy.\n",
      "Tim wanted to show his friends the comet. He tried to lift the comet up high. But the comet was too big and heavy. Tim felt helpless. He did not know what to do. He wanted to show his friends the comet, but he could not lift it.\n",
      "Tim's mom saw him and came to help. She showed Tim how to lift the comet together. Tim was so happy! He learned how to lift the comet and they played together. They were both very happy.\n"
     ]
    }
   ],
   "source": [
    "print(spm.Decode(sampler.generate(idx=jnp.array([[SOS]+spm.Encode(\"Once upon a time,\")]), top_p=0.9, seed=3432))) # ~?mins"
   ]
  },
  {
   "cell_type": "code",
   "execution_count": 34,
   "metadata": {},
   "outputs": [
    {
     "name": "stdout",
     "output_type": "stream",
     "text": [
      "Once upon a time, there was a little girl named Mia. Mia had a pretty jacket with a big pocket. One day, Mia was very hungry. She wanted to eat a sandwich. Mia looked in her pocket and saw a big, yummy sandwich. But the sandwich was not there. Mia was sad.\n",
      "Mia's mom saw her sad face and asked, \"Why are you sad, Mia?\" Mia showed her mom the sandwich she found in the sandwich. Her mom smiled and said, \"Don't worry, Mia. I have a surprise for you.\" Mia's mom gave her a big, yummy sandwich. Mia was very happy.\n",
      "Mia went back to her mom and said, \"Thank you, mom!\" Her mom said, \"You're welcome, Mia. I'm glad you like it!\" Mia smiled and ate her sandwich. She was not hungry anymore. From that day on, Mia always remembered to check her pocket for sandwiches.\n"
     ]
    }
   ],
   "source": [
    "print(spm.Decode(sampler.generate(idx=jnp.array([[SOS]+spm.Encode(\"Once upon a time,\")]), top_p=0.9, seed=342456))) # ~?mins"
   ]
  },
  {
   "cell_type": "code",
   "execution_count": 35,
   "metadata": {},
   "outputs": [
    {
     "name": "stdout",
     "output_type": "stream",
     "text": [
      "Once upon a time there was a little girl named Lucy. She loved to go to the store to buy sweets with her mom and dad.\n",
      "One day, when Lucy and her parents went to the store, they saw a big, delicious cake. Lucy's mom said, \"Let's buy some cake, but we must delay. We need to get ready for the party tonight.\"\n",
      "So they all waited and waited, and then they went to the cake. But when they got there, they found out the cake was a surprise for them! Lucy and her family laughed and enjoyed the delicious cake together.\n"
     ]
    }
   ],
   "source": [
    "print(spm.Decode(sampler.generate(idx=jnp.array([[SOS]+spm.Encode(\n",
    "    \"Once upon a time there was a little girl named Lucy. She loved to go to the store to buy sweets with her mom and dad\"\n",
    "    )]), seed=13213, top_p=0.9))) # ~?mins"
   ]
  },
  {
   "cell_type": "code",
   "execution_count": 36,
   "metadata": {},
   "outputs": [
    {
     "name": "stdout",
     "output_type": "stream",
     "text": [
      "Once upon a time, in a big forest, there was a fearful little dog named Spot. Spot was always scared of the dark, loud sounds outside. One day, while Spot was playing near the trees, he heard a loud sound. It was a big, scary cat! Spot was so scared, he ran away fast.\n",
      "Spot tried to hide, but the big, scary cat found him. The cat did not want to hurt Spot, so it chased him. Spot ran and ran, but he could not get away. He was very sad and scared.\n",
      "Then, something unexpected happened. The big, scary cat found a magic rock. The rock could make the cat stop. The cat turned into a big, strong monster. The monster took Spot away, and he was never seen again. Spot was very sad and scared of the big, scary cat.\n"
     ]
    }
   ],
   "source": [
    "print(spm.Decode(sampler.generate(idx=jnp.array([[SOS]+spm.Encode(\n",
    "    \"Once upon a time, in a big forest, there was a fearful little dog named Spot\")]), top_k=50, seed=3298486))\n",
    ") # ~?mins"
   ]
  },
  {
   "cell_type": "code",
   "execution_count": 37,
   "metadata": {},
   "outputs": [
    {
     "name": "stdout",
     "output_type": "stream",
     "text": [
      "Once upon a time, in a big forest, there was a fearful little dog named Spot. Spot was scared of everything. One day, Spot saw a big tree with a small bird on it. The bird was sad because it could not fly.\n",
      "Spot wanted to help the bird. He thought of a plan. Spot would use his paw to push the bird up to the tree. He used his paw to push the bird up to the tree. The bird was happy and said, \"Thank you, Spot!\"\n",
      "The bird was not fearful anymore. It was happy to have a friend. Spot and the bird played together in the forest. They were the best of friends. And they lived happily ever after.\n"
     ]
    }
   ],
   "source": [
    "print(spm.Decode(sampler.generate(idx=jnp.array([[SOS]+spm.Encode(\n",
    "    \"Once upon a time, in a big forest, there was a fearful little dog named Spot\")]), top_k=1, seed=3298486))\n",
    ") # ~?mins"
   ]
  },
  {
   "cell_type": "code",
   "execution_count": 38,
   "metadata": {},
   "outputs": [
    {
     "name": "stdout",
     "output_type": "stream",
     "text": [
      "Once upon a time, in a big forest, there was a fearful little dog named Spot. Spot was scared of everything. One day, Spot went for a walk with his best friend, a tiny bird named Tweet.\n",
      "As they walked, they saw a big tree with a red ball stuck in it. Spot wanted to get the ball, but he was too small to reach it. Tweet tried to help Spot, but he was too small. They needed to find a way to get the ball down.\n",
      "Then, Spot had an idea. He would jump and bark very loud. Tweet said, \"I will fly up and push the ball, and it will fall!\" So, Tweet flew up to the tree and pushed the red ball with his beak. The ball fell down, and Spot was happy.\n",
      "Spot and Tweet played with the red ball all day. They had lots of fun, and Spot was not scared anymore. They knew that being friends was not bad, but being together was important. And from that day on, Spot was never fearful of anything again.\n"
     ]
    }
   ],
   "source": [
    "print(spm.Decode(sampler.generate(idx=jnp.array([[SOS]+spm.Encode(\n",
    "    \"Once upon a time, in a big forest, there was a fearful little dog named Spot\")]), top_p=0.9, seed=3298486))\n",
    ") # ~?mins"
   ]
  },
  {
   "cell_type": "code",
   "execution_count": 39,
   "metadata": {},
   "outputs": [
    {
     "name": "stdout",
     "output_type": "stream",
     "text": [
      "One day, a little boy named Tim went to the park. He saw a big, dark cloud in the sky. Tim was not scared, but he kept looking at the cloud.\n",
      "Then, Tim saw a small bird on the ground. The bird was hurt and could not fly. Tim wanted to help the bird, so he took it to his mom. His mom said, \"We will help the bird, but we must be careful.\"\n",
      "Tim's mom got a bandage and put it on the bird's wing. The bird felt better and started to fly again. The bird said, \"Thank you, Tim and mom!\" Tim and his mom were happy they could help the bird.\n"
     ]
    }
   ],
   "source": [
    "print(spm.Decode(sampler.generate(idx=jnp.array([[SOS]+spm.Encode(\n",
    "    \"One day,\")]), top_p=0.9, seed=23232326567))\n",
    ") # ~?mins"
   ]
  },
  {
   "cell_type": "code",
   "execution_count": 40,
   "metadata": {},
   "outputs": [
    {
     "name": "stdout",
     "output_type": "stream",
     "text": [
      "One day, Lily met a Shoggoth. They were very good friends. The Shogg's name was Shelly. They liked to play and have fun together.\n",
      "One day, Lily and Shelly were playing near the water. Shelly swimming fast, but he was scared. He started to tremble. Lily saw Shelly and said, \"Shelly, let's go back to the water. It will be safe there.\"\n",
      "Shelly felt better. He stopped trembling. He went back to Lily and they played together. Shelly was happy to have a new friend. They went back to the water to play more games.\n"
     ]
    }
   ],
   "source": [
    "print(spm.Decode(sampler.generate(idx=jnp.array([[SOS]+spm.Encode(\n",
    "    \"One day, Lily met a Shoggoth\")]), top_p=0.9, seed=3298486))\n",
    ") # ~?mins"
   ]
  },
  {
   "cell_type": "code",
   "execution_count": null,
   "metadata": {},
   "outputs": [],
   "source": []
  },
  {
   "cell_type": "markdown",
   "metadata": {},
   "source": [
    "```python\n",
    "before = [\"a\", \"b\", \"c\", \"d\"]\n",
    "after = [\"c\", \"b\", \"d\", \"a\"]\n",
    "\n",
    "indices = [after.index(b) for b in before]\n",
    "print(indices)\n",
    "rearranged_after = [after[i] for i in indices]\n",
    "print(rearranged_after)\n",
    "```"
   ]
  }
 ],
 "metadata": {
  "kernelspec": {
   "display_name": "Python 3",
   "language": "python",
   "name": "python3"
  },
  "language_info": {
   "codemirror_mode": {
    "name": "ipython",
    "version": 3
   },
   "file_extension": ".py",
   "mimetype": "text/x-python",
   "name": "python",
   "nbconvert_exporter": "python",
   "pygments_lexer": "ipython3",
   "version": "3.11.9"
  }
 },
 "nbformat": 4,
 "nbformat_minor": 2
}

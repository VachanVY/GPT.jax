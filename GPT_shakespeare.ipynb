{
 "cells": [
  {
   "cell_type": "code",
   "execution_count": 1,
   "metadata": {},
   "outputs": [
    {
     "name": "stdout",
     "output_type": "stream",
     "text": [
      "env: TF_CPP_MIN_LOG_LEVEL=3\n",
      "Python Version 3.11.7 (main, Dec  8 2023, 18:56:58) [GCC 11.4.0]\n",
      "Keras Version 3.0.4 with jax backend \tJax Version 0.4.23\n",
      "Jax backend device gpu\n"
     ]
    }
   ],
   "source": [
    "%env TF_CPP_MIN_LOG_LEVEL=3\n",
    "import sys\n",
    "from dataclasses import dataclass\n",
    "import random as r\n",
    "from matplotlib import pyplot as plt\n",
    "\n",
    "import jax\n",
    "from jax import Array, numpy as jnp, random as jrand\n",
    "import keras as nn\n",
    "nn.utils.set_random_seed(812)\n",
    "import tensorflow as tf\n",
    "\n",
    "print(\"Python Version\", sys.version); del sys\n",
    "print(f\"Keras Version {nn.__version__} with {nn.backend.backend()} backend \\tJax Version {jax.__version__}\")\n",
    "print(\"Jax backend device\", jax.default_backend())"
   ]
  },
  {
   "cell_type": "markdown",
   "metadata": {},
   "source": [
    "# Positional Embeddings"
   ]
  },
  {
   "cell_type": "code",
   "execution_count": 2,
   "metadata": {},
   "outputs": [],
   "source": [
    "class PositionalEmbedding:\n",
    "    \"\"\"```\n",
    "    Sinusoidal Fixed Positional Embeddings\n",
    "    Args:\n",
    "        maxlen:int\n",
    "        dim:int\n",
    "    sinusoidal_embeddings: \n",
    "        pos_emb: (1, maxlen, dim)\n",
    "    get_freqs:\n",
    "        get_freqs: sin_freqs(1, maxlen, 1, dim), cos_freqs(1, maxlen, 1, dim)\n",
    "    ```\"\"\"\n",
    "    def __init__(self, maxlen:int, dim:int):\n",
    "        p, i = jnp.meshgrid(jnp.arange(float(maxlen)), jnp.arange(dim/2)*2)\n",
    "        theta = (p/1e4**(i/dim)).T\n",
    "\n",
    "        self.pos_emb = jnp.stack([jnp.sin(theta), jnp.cos(theta)], axis=-1)\n",
    "        self.pos_emb = self.pos_emb.reshape((maxlen, dim))[None] # (1, maxlen, dim)\n",
    "\n",
    "    def sinusoidal_embeddings(self):\n",
    "        return self.pos_emb # (1, maxlen, dim)\n",
    "    \n",
    "    def get_freqs(self):\n",
    "        sin_freqs = jnp.repeat(self.pos_emb[..., None, ::2], repeats=2, axis=-1)\n",
    "        cos_freqs = jnp.repeat(self.pos_emb[..., None, 1::2], repeats=2, axis=-1)\n",
    "        return sin_freqs, cos_freqs # (1, maxlen, 1, dim), (1, maxlen, 1, dim)"
   ]
  },
  {
   "cell_type": "markdown",
   "metadata": {},
   "source": [
    "# Attention"
   ]
  },
  {
   "cell_type": "code",
   "execution_count": 3,
   "metadata": {},
   "outputs": [],
   "source": [
    "class Attention(nn.Layer):\n",
    "    \"\"\"```\n",
    "    Multi-head Attention\n",
    "    Args:\n",
    "        causal:bool\n",
    "        n_heads:int\n",
    "        d_model:int\n",
    "        maxlen:int\n",
    "        dropout_rate:float\n",
    "    Input:\n",
    "        inp2q: shape(B, N, d_model)\n",
    "        inp2k: shape(B, T, d_model)\n",
    "        inp2v: shape(B, T, d_model)\n",
    "    Output:\n",
    "        linear_att_out: shape(B, N, d_model)\n",
    "    ```\"\"\"\n",
    "    def __init__(\n",
    "            self,\n",
    "            causal:bool,\n",
    "            num_heads:int,\n",
    "            d_model:int,\n",
    "            maxlen:int,\n",
    "            dropout_rate:float,\n",
    "            **kwargs\n",
    "    ):\n",
    "        super().__init__(**kwargs)\n",
    "        assert d_model % num_heads == 0\n",
    "        self.causal = causal\n",
    "        self.num_heads = num_heads\n",
    "        self.d_model = d_model\n",
    "        self.dim = self.d_model//num_heads\n",
    "\n",
    "        self.wq = nn.layers.Dense(self.d_model, use_bias=False)\n",
    "        self.wk = nn.layers.Dense(self.d_model, use_bias=False)\n",
    "        self.wv = nn.layers.Dense(self.d_model, use_bias=False)\n",
    "        self.attwei_dropout = nn.layers.Dropout(dropout_rate)\n",
    "\n",
    "        self.w = nn.layers.Dense(d_model)\n",
    "        if causal:\n",
    "            self.causal_mask = jnp.triu(jnp.full(shape=(1, 1, maxlen, maxlen), fill_value=-jnp.inf), k=1)\n",
    "\n",
    "    def call(\n",
    "            self,\n",
    "            inp2q:Array, # (B, T, d_model)\n",
    "            inp2k:Array, # (B, T, d_model)\n",
    "            inp2v:Array, # (B, T, d_model)\n",
    "    ):\n",
    "        B, T = inp2q.shape[:-1]\n",
    "        assert inp2k.shape == inp2v.shape == inp2q.shape\n",
    "\n",
    "        # compute q, k, v\n",
    "        q = self.wq(inp2q) # (B, T, d_model)\n",
    "        k = self.wk(inp2k) # (B, T, d_model)\n",
    "        v = self.wv(inp2v) # (B, T, d_model)\n",
    "\n",
    "        # seperate heads\n",
    "        q = q.reshape((B, self.num_heads, T, self.dim)) # (B, h, T, dim)\n",
    "        k = k.reshape((B, self.num_heads, T, self.dim)) # (B, h, T, dim)\n",
    "        v = v.reshape((B, self.num_heads, T, self.dim)) # (B, h, T, dim)\n",
    "\n",
    "        # compute attention weights\n",
    "        att_wei = (q @ k.transpose((0, 1, 3, 2)))/self.dim**0.5 # (B, h, T, T) <= (B, h, T, dim) @ (B, h, T, dim).transpose(2, 3)\n",
    "        if self.causal:\n",
    "            att_wei = att_wei + self.causal_mask[:, :, :T, :T] # (B, h, T, T)\n",
    "\n",
    "        att_wei = jax.nn.softmax(att_wei, axis=-1) # (B, h, T, T)\n",
    "        att_wei = self.attwei_dropout(att_wei)\n",
    "\n",
    "        # apply attention weights to v\n",
    "        att_out = att_wei @ v # (B, h, T, T) @ (B, h, T, dv) => (B, h, T, dv)\n",
    "        # combine heads\n",
    "        att_out = att_out.reshape((B, T, self.d_model)) # (B, T, h*dv) ==> (B, T, d_model)\n",
    "\n",
    "        # linear of att_out\n",
    "        linear_att_out = self.w(att_out) # (B, T, d_model)\n",
    "        return linear_att_out"
   ]
  },
  {
   "cell_type": "markdown",
   "metadata": {},
   "source": [
    "# GPT"
   ]
  },
  {
   "cell_type": "code",
   "execution_count": 4,
   "metadata": {},
   "outputs": [],
   "source": [
    "def build_model(model:nn.Model, input_shape:tuple, val_intervals:tuple):\n",
    "    blabla = model(\n",
    "        jrand.randint(jrand.PRNGKey(32344), shape=input_shape, minval=val_intervals[0], maxval=val_intervals[-1])\n",
    "    ); del blabla\n",
    "    return model\n",
    "\n",
    "\n",
    "class TieWeights(nn.Layer):\n",
    "    def __init__(self, dense:nn.Layer, activation=None, **kwargs):\n",
    "        super().__init__(**kwargs)\n",
    "        self.dense = dense # (1, vocab_size, d_model)\n",
    "        self.activation = nn.activations.get(activation)\n",
    "        \n",
    "    def call(self, x): # (B, T, d_model)\n",
    "        W = jnp.array(self.dense.weights)[0].T # (d_model, vocab_size)\n",
    "        return self.activation(x @ W)\n",
    "\n",
    "\n",
    "class Block(nn.Model):\n",
    "    \"\"\"```\n",
    "    Block\n",
    "    Args:\n",
    "        causal:bool\n",
    "        num_heads:int\n",
    "        d_model:int\n",
    "        maxlen:int\n",
    "        dropout_rate:float\n",
    "        use_bias:bool\n",
    "    Inputs: \n",
    "        inputs: shape(B, T, d_model)\n",
    "        pad_mask: shape(B, T) of boolean dtype\n",
    "    Outputs:\n",
    "        outputs: shape(B, T, d_model)\n",
    "    ```\"\"\"\n",
    "    def __init__(\n",
    "            self, \n",
    "            causal: bool, \n",
    "            num_heads: int, \n",
    "            d_model: int,\n",
    "            maxlen:int,\n",
    "            dropout_rate: float,\n",
    "            **kwargs\n",
    "    ):\n",
    "        super().__init__(**kwargs)\n",
    "        dff_in = 4*d_model\n",
    "        self.rmsnorm1 = nn.layers.LayerNormalization(rms_scaling=True, epsilon=1e-5)\n",
    "        self.rmsnorm2 = nn.layers.LayerNormalization(rms_scaling=True, epsilon=1e-5)\n",
    "\n",
    "        self.mha = Attention(causal, num_heads, d_model, maxlen, dropout_rate)\n",
    "\n",
    "        self.ffn = [\n",
    "            nn.layers.Dense(int(dff_in), use_bias=True),\n",
    "            nn.layers.Activation(nn.activations.gelu),\n",
    "            nn.layers.Dense(d_model, use_bias=True),\n",
    "            nn.layers.Dropout(dropout_rate)\n",
    "        ]\n",
    "        \n",
    "        self.dropout = nn.layers.Dropout(dropout_rate)\n",
    "\n",
    "    def call(self, inputs:Array):\n",
    "        z = self.rmsnorm1(inputs)\n",
    "        x = inputs+self.mha(z, z, z)\n",
    "\n",
    "        z = self.rmsnorm2(x)\n",
    "        for layer in self.ffn:\n",
    "            z = layer(z)\n",
    "        outputs = x + z\n",
    "        return outputs # (B, T, d_model)"
   ]
  },
  {
   "cell_type": "code",
   "execution_count": 5,
   "metadata": {},
   "outputs": [],
   "source": [
    "class GPT(nn.Model):\n",
    "    \"\"\"```\n",
    "    GPT!!\n",
    "    Args:\n",
    "        args:\n",
    "            d_model: int\n",
    "            num_heads: int\n",
    "            num_layers: int\n",
    "            max_context_length: int\n",
    "            vocab_size: int\n",
    "            output_units: int => if None is equal to vocab_size\n",
    "            dropout_rate: float\n",
    "        causal:bool\n",
    "        output_activation:str\n",
    "    Inputs:\n",
    "        inputs: shape(B, T)\n",
    "    Outputs: \n",
    "        outputs: shape(B, T, d_model)    \n",
    "    ```\"\"\"\n",
    "    def __init__(self, args, causal:bool, output_activation:str=None, **kwargs):\n",
    "        super().__init__(**kwargs)\n",
    "        if args.output_units is None:\n",
    "            args.output_units = args.vocab_size\n",
    "        # pos embedding\n",
    "        self.pos_embed = nn.layers.Embedding(args.max_context_length, args.d_model)\n",
    "        # embedding tokens and dropout\n",
    "        self.emb_dropout = nn.layers.Dropout(args.dropout_rate)\n",
    "        self.token_embed = nn.layers.Embedding(args.vocab_size, args.d_model)\n",
    "\n",
    "        # block layers\n",
    "        self.block_layers = [\n",
    "                Block(\n",
    "                    causal=causal, \n",
    "                    num_heads=args.num_heads,\n",
    "                    d_model=args.d_model,\n",
    "                    maxlen=args.max_context_length,\n",
    "                    dropout_rate=args.dropout_rate,\n",
    "                ) for _ in range(args.num_layers)\n",
    "            ]\n",
    "\n",
    "        # final layer: outputs logits with dropout\n",
    "        self.norm = nn.layers.LayerNormalization(rms_scaling=True)\n",
    "        self.linear = nn.layers.Dense(args.output_units, activation=output_activation, use_bias=True) #TieWeights(self.token_embed, activation=output_activation)\n",
    "        self.logits_dropout = nn.layers.Dropout(rate=args.dropout_rate)\n",
    "\n",
    "    def call(\n",
    "            self, \n",
    "            inputs:Array\n",
    "    ):\n",
    "        # embed tokens\n",
    "        x = self.emb_dropout(self.token_embed(inputs)+self.pos_embed(jnp.arange(inputs.shape[-1]))) # (B, T) ==> (B, T, d_model)\n",
    "        \n",
    "        # block layers\n",
    "        for layer in self.block_layers:\n",
    "            x = layer(x) # (B, T, d_model) ==> (B, T, d_model)\n",
    "        x = self.norm(x)\n",
    "\n",
    "        # linear layer: outputs logits\n",
    "        logits = self.linear(x) # (B, T, d_model) ==> (B, T, vocab_size)\n",
    "        return self.logits_dropout(logits)"
   ]
  },
  {
   "cell_type": "markdown",
   "metadata": {},
   "source": [
    "# Dataset"
   ]
  },
  {
   "cell_type": "code",
   "execution_count": 6,
   "metadata": {},
   "outputs": [],
   "source": [
    "shakespeare_url = \"https://homl.info/shakespeare\"\n",
    "filepath = nn.utils.get_file(\"shakespeare.txt\", shakespeare_url)\n",
    "shakespeare_text = open(filepath, \"r\", encoding=\"utf-8\").read()"
   ]
  },
  {
   "cell_type": "code",
   "execution_count": 7,
   "metadata": {},
   "outputs": [
    {
     "name": "stdout",
     "output_type": "stream",
     "text": [
      "First Citizen:\n",
      "Before we proceed any further, hear me speak.\n",
      "\n",
      "All:\n",
      "Speak, speak.\n",
      "\n",
      "First Citizen:\n",
      "You are all resolved rather to die than to famish?\n",
      "\n",
      "All:\n",
      "Resolved. resolved.\n",
      "\n",
      "First Citizen:\n",
      "First, you know Caius Marcius is chief enemy to the people.\n",
      "\n",
      "All:\n",
      "We know't, we know't.\n",
      "\n",
      "First Citizen:\n",
      "Let us kill him, and we'll have corn at our own price.\n",
      "Is't a verdict?\n",
      "\n",
      "All:\n",
      "No more talking on't; let it be done: away, away!\n",
      "\n",
      "Second Citizen:\n",
      "One word, good citizens.\n",
      "\n",
      "First Citizen:\n",
      "We are accounted poor citizens, the patricians good.\n",
      "What authority surfeits on would relieve us: if they\n",
      "would yield us but the superfluity, while it were\n",
      "wholesome, we might guess they relieved us humanely;\n",
      "but they think we are too dear: the leanness that\n",
      "afflicts us, the object of our misery, is as an\n",
      "inventory to particularise their abundance; our\n",
      "sufferance is a gain to them Let us revenge this with\n",
      "our pikes, ere we become rakes: for the gods know I\n",
      "speak this in hunger for bread, not in thirst for revenge.\n",
      "\n",
      "\n"
     ]
    }
   ],
   "source": [
    "print(shakespeare_text[:1000])"
   ]
  },
  {
   "cell_type": "code",
   "execution_count": 8,
   "metadata": {},
   "outputs": [
    {
     "name": "stdout",
     "output_type": "stream",
     "text": [
      "\n",
      " !$&',-.3:;?ABCDEFGHIJKLMNOPQRSTUVWXYZabcdefghijklmnopqrstuvwxyz\n",
      "65\n"
     ]
    }
   ],
   "source": [
    "chars = sorted(list(set(shakespeare_text)))\n",
    "VOCAB_SIZE = len(chars)\n",
    "print(''.join(chars))\n",
    "print(VOCAB_SIZE)"
   ]
  },
  {
   "cell_type": "code",
   "execution_count": 9,
   "metadata": {},
   "outputs": [],
   "source": [
    "def to_dataset(sequence, length, shuffle=False, seed=None, batch_size=32):\n",
    "    ds = tf.data.Dataset.from_tensor_slices(sequence)\n",
    "    ds = ds.window(length + 1, shift=1, drop_remainder=True)\n",
    "    ds = ds.flat_map(lambda window_ds: window_ds.batch(length + 1))\n",
    "    if shuffle:\n",
    "        ds = ds.shuffle(100_000, seed=seed)\n",
    "    ds = ds.batch(batch_size)\n",
    "    return ds.map(lambda window: (window[:, :-1], window[:, 1:])).prefetch(1)"
   ]
  },
  {
   "cell_type": "code",
   "execution_count": 10,
   "metadata": {},
   "outputs": [
    {
     "name": "stdout",
     "output_type": "stream",
     "text": [
      "[18, 47, 56, 57, 58, 1, 15, 47, 58, 47, 64, 43, 52, 10, 0, 14, 43, 44, 53, 56, 43, 1, 61, 43, 1, 54, 56, 53, 41, 43, 43, 42, 1, 39, 52, 63, 1, 44, 59, 56, 58, 46, 43, 56, 6, 1, 46, 43, 39, 56, 1, 51, 43, 1, 57, 54, 43, 39, 49, 8, 0, 0, 13, 50, 50, 10, 0, 31, 54, 43, 39, 49, 6, 1, 57, 54, 43, 39, 49, 8, 0, 0, 18, 47, 56, 57, 58, 1, 15, 47, 58, 47, 64, 43, 52, 10, 0, 37, 53, 59]\n",
      "First Citizen:\n",
      "Before we proceed any further, hear me speak.\n",
      "\n",
      "All:\n",
      "Speak, speak.\n",
      "\n",
      "First Citizen:\n",
      "You\n"
     ]
    }
   ],
   "source": [
    "stoi = { ch:i for i,ch in enumerate(chars) }\n",
    "itos = { i:ch for i,ch in enumerate(chars) }\n",
    "encode = lambda s: [stoi[c] for c in s]\n",
    "decode = lambda l: ''.join([itos[i] for i in l])\n",
    "\n",
    "print(encode(shakespeare_text[:100]))\n",
    "print(decode(encode(shakespeare_text[:100])))"
   ]
  },
  {
   "cell_type": "markdown",
   "metadata": {},
   "source": [
    "# GPT Args"
   ]
  },
  {
   "cell_type": "code",
   "execution_count": 11,
   "metadata": {},
   "outputs": [
    {
     "data": {
      "text/plain": [
       "GPTArgs(d_model=128, num_layers=4, num_heads=8, max_context_length=64, vocab_size=65, output_units=None, dropout_rate=0.4)"
      ]
     },
     "execution_count": 11,
     "metadata": {},
     "output_type": "execute_result"
    }
   ],
   "source": [
    "@dataclass\n",
    "class GPTArgs:\n",
    "    \"\"\"GPT Configuration\"\"\"\n",
    "    d_model:int = 128                       \n",
    "    num_layers:int = 4\n",
    "    num_heads:int = 8\n",
    "    max_context_length:int = 64\n",
    "    vocab_size:int = VOCAB_SIZE\n",
    "    output_units:int = None\n",
    "    assert d_model % 2 == 0\n",
    "    assert d_model % num_heads == 0\n",
    "    dropout_rate:float = 0.4\n",
    "\n",
    "GPTArgs()"
   ]
  },
  {
   "cell_type": "code",
   "execution_count": 12,
   "metadata": {},
   "outputs": [
    {
     "data": {
      "text/html": [
       "<pre style=\"white-space:pre;overflow-x:auto;line-height:normal;font-family:Menlo,'DejaVu Sans Mono',consolas,'Courier New',monospace\"><span style=\"font-weight: bold\">Model: \"gpt\"</span>\n",
       "</pre>\n"
      ],
      "text/plain": [
       "\u001b[1mModel: \"gpt\"\u001b[0m\n"
      ]
     },
     "metadata": {},
     "output_type": "display_data"
    },
    {
     "data": {
      "text/html": [
       "<pre style=\"white-space:pre;overflow-x:auto;line-height:normal;font-family:Menlo,'DejaVu Sans Mono',consolas,'Courier New',monospace\">┏━━━━━━━━━━━━━━━━━━━━━━━━━━━━━━━━━┳━━━━━━━━━━━━━━━━━━━━━━━━━━━┳━━━━━━━━━━━━┓\n",
       "┃<span style=\"font-weight: bold\"> Layer (type)                    </span>┃<span style=\"font-weight: bold\"> Output Shape              </span>┃<span style=\"font-weight: bold\">    Param # </span>┃\n",
       "┡━━━━━━━━━━━━━━━━━━━━━━━━━━━━━━━━━╇━━━━━━━━━━━━━━━━━━━━━━━━━━━╇━━━━━━━━━━━━┩\n",
       "│ embedding (<span style=\"color: #0087ff; text-decoration-color: #0087ff\">Embedding</span>)           │ ?                         │      <span style=\"color: #00af00; text-decoration-color: #00af00\">8,192</span> │\n",
       "├─────────────────────────────────┼───────────────────────────┼────────────┤\n",
       "│ dropout (<span style=\"color: #0087ff; text-decoration-color: #0087ff\">Dropout</span>)               │ ?                         │          <span style=\"color: #00af00; text-decoration-color: #00af00\">0</span> │\n",
       "├─────────────────────────────────┼───────────────────────────┼────────────┤\n",
       "│ embedding_1 (<span style=\"color: #0087ff; text-decoration-color: #0087ff\">Embedding</span>)         │ ?                         │      <span style=\"color: #00af00; text-decoration-color: #00af00\">8,320</span> │\n",
       "├─────────────────────────────────┼───────────────────────────┼────────────┤\n",
       "│ block (<span style=\"color: #0087ff; text-decoration-color: #0087ff\">Block</span>)                   │ ?                         │    <span style=\"color: #00af00; text-decoration-color: #00af00\">197,632</span> │\n",
       "├─────────────────────────────────┼───────────────────────────┼────────────┤\n",
       "│ block_1 (<span style=\"color: #0087ff; text-decoration-color: #0087ff\">Block</span>)                 │ ?                         │    <span style=\"color: #00af00; text-decoration-color: #00af00\">197,632</span> │\n",
       "├─────────────────────────────────┼───────────────────────────┼────────────┤\n",
       "│ block_2 (<span style=\"color: #0087ff; text-decoration-color: #0087ff\">Block</span>)                 │ ?                         │    <span style=\"color: #00af00; text-decoration-color: #00af00\">197,632</span> │\n",
       "├─────────────────────────────────┼───────────────────────────┼────────────┤\n",
       "│ block_3 (<span style=\"color: #0087ff; text-decoration-color: #0087ff\">Block</span>)                 │ ?                         │    <span style=\"color: #00af00; text-decoration-color: #00af00\">197,632</span> │\n",
       "├─────────────────────────────────┼───────────────────────────┼────────────┤\n",
       "│ layer_normalization_8           │ ?                         │        <span style=\"color: #00af00; text-decoration-color: #00af00\">128</span> │\n",
       "│ (<span style=\"color: #0087ff; text-decoration-color: #0087ff\">LayerNormalization</span>)            │                           │            │\n",
       "├─────────────────────────────────┼───────────────────────────┼────────────┤\n",
       "│ dense_24 (<span style=\"color: #0087ff; text-decoration-color: #0087ff\">Dense</span>)                │ ?                         │      <span style=\"color: #00af00; text-decoration-color: #00af00\">8,385</span> │\n",
       "├─────────────────────────────────┼───────────────────────────┼────────────┤\n",
       "│ dropout_13 (<span style=\"color: #0087ff; text-decoration-color: #0087ff\">Dropout</span>)            │ ?                         │          <span style=\"color: #00af00; text-decoration-color: #00af00\">0</span> │\n",
       "└─────────────────────────────────┴───────────────────────────┴────────────┘\n",
       "</pre>\n"
      ],
      "text/plain": [
       "┏━━━━━━━━━━━━━━━━━━━━━━━━━━━━━━━━━┳━━━━━━━━━━━━━━━━━━━━━━━━━━━┳━━━━━━━━━━━━┓\n",
       "┃\u001b[1m \u001b[0m\u001b[1mLayer (type)                   \u001b[0m\u001b[1m \u001b[0m┃\u001b[1m \u001b[0m\u001b[1mOutput Shape             \u001b[0m\u001b[1m \u001b[0m┃\u001b[1m \u001b[0m\u001b[1m   Param #\u001b[0m\u001b[1m \u001b[0m┃\n",
       "┡━━━━━━━━━━━━━━━━━━━━━━━━━━━━━━━━━╇━━━━━━━━━━━━━━━━━━━━━━━━━━━╇━━━━━━━━━━━━┩\n",
       "│ embedding (\u001b[38;5;33mEmbedding\u001b[0m)           │ ?                         │      \u001b[38;5;34m8,192\u001b[0m │\n",
       "├─────────────────────────────────┼───────────────────────────┼────────────┤\n",
       "│ dropout (\u001b[38;5;33mDropout\u001b[0m)               │ ?                         │          \u001b[38;5;34m0\u001b[0m │\n",
       "├─────────────────────────────────┼───────────────────────────┼────────────┤\n",
       "│ embedding_1 (\u001b[38;5;33mEmbedding\u001b[0m)         │ ?                         │      \u001b[38;5;34m8,320\u001b[0m │\n",
       "├─────────────────────────────────┼───────────────────────────┼────────────┤\n",
       "│ block (\u001b[38;5;33mBlock\u001b[0m)                   │ ?                         │    \u001b[38;5;34m197,632\u001b[0m │\n",
       "├─────────────────────────────────┼───────────────────────────┼────────────┤\n",
       "│ block_1 (\u001b[38;5;33mBlock\u001b[0m)                 │ ?                         │    \u001b[38;5;34m197,632\u001b[0m │\n",
       "├─────────────────────────────────┼───────────────────────────┼────────────┤\n",
       "│ block_2 (\u001b[38;5;33mBlock\u001b[0m)                 │ ?                         │    \u001b[38;5;34m197,632\u001b[0m │\n",
       "├─────────────────────────────────┼───────────────────────────┼────────────┤\n",
       "│ block_3 (\u001b[38;5;33mBlock\u001b[0m)                 │ ?                         │    \u001b[38;5;34m197,632\u001b[0m │\n",
       "├─────────────────────────────────┼───────────────────────────┼────────────┤\n",
       "│ layer_normalization_8           │ ?                         │        \u001b[38;5;34m128\u001b[0m │\n",
       "│ (\u001b[38;5;33mLayerNormalization\u001b[0m)            │                           │            │\n",
       "├─────────────────────────────────┼───────────────────────────┼────────────┤\n",
       "│ dense_24 (\u001b[38;5;33mDense\u001b[0m)                │ ?                         │      \u001b[38;5;34m8,385\u001b[0m │\n",
       "├─────────────────────────────────┼───────────────────────────┼────────────┤\n",
       "│ dropout_13 (\u001b[38;5;33mDropout\u001b[0m)            │ ?                         │          \u001b[38;5;34m0\u001b[0m │\n",
       "└─────────────────────────────────┴───────────────────────────┴────────────┘\n"
      ]
     },
     "metadata": {},
     "output_type": "display_data"
    },
    {
     "data": {
      "text/html": [
       "<pre style=\"white-space:pre;overflow-x:auto;line-height:normal;font-family:Menlo,'DejaVu Sans Mono',consolas,'Courier New',monospace\"><span style=\"font-weight: bold\"> Total params: </span><span style=\"color: #00af00; text-decoration-color: #00af00\">815,553</span> (3.11 MB)\n",
       "</pre>\n"
      ],
      "text/plain": [
       "\u001b[1m Total params: \u001b[0m\u001b[38;5;34m815,553\u001b[0m (3.11 MB)\n"
      ]
     },
     "metadata": {},
     "output_type": "display_data"
    },
    {
     "data": {
      "text/html": [
       "<pre style=\"white-space:pre;overflow-x:auto;line-height:normal;font-family:Menlo,'DejaVu Sans Mono',consolas,'Courier New',monospace\"><span style=\"font-weight: bold\"> Trainable params: </span><span style=\"color: #00af00; text-decoration-color: #00af00\">815,553</span> (3.11 MB)\n",
       "</pre>\n"
      ],
      "text/plain": [
       "\u001b[1m Trainable params: \u001b[0m\u001b[38;5;34m815,553\u001b[0m (3.11 MB)\n"
      ]
     },
     "metadata": {},
     "output_type": "display_data"
    },
    {
     "data": {
      "text/html": [
       "<pre style=\"white-space:pre;overflow-x:auto;line-height:normal;font-family:Menlo,'DejaVu Sans Mono',consolas,'Courier New',monospace\"><span style=\"font-weight: bold\"> Non-trainable params: </span><span style=\"color: #00af00; text-decoration-color: #00af00\">0</span> (0.00 B)\n",
       "</pre>\n"
      ],
      "text/plain": [
       "\u001b[1m Non-trainable params: \u001b[0m\u001b[38;5;34m0\u001b[0m (0.00 B)\n"
      ]
     },
     "metadata": {},
     "output_type": "display_data"
    }
   ],
   "source": [
    "model = GPT(GPTArgs, causal=True)\n",
    "model = build_model(model, (2, GPTArgs.max_context_length), [0, GPTArgs.vocab_size-1])\n",
    "model.summary()"
   ]
  },
  {
   "cell_type": "markdown",
   "metadata": {},
   "source": [
    "# Training Arguments"
   ]
  },
  {
   "cell_type": "code",
   "execution_count": 13,
   "metadata": {},
   "outputs": [],
   "source": [
    "@dataclass\n",
    "class TArgs:\n",
    "    \"Training Arguments\"\n",
    "    checkpoint:str = \"weights/gpt_shakespeare2/Epoch{epoch}.weights.h5\"\n",
    "    steps_per_epoch:int = 250\n",
    "    eval_steps = 200\n",
    "    \n",
    "    batch_size:int = 64\n",
    "    num_steps:int = 10_000\n",
    "    epochs:int = num_steps//steps_per_epoch\n",
    "\n",
    "    init_lr:float = 8e-4\n",
    "    max_lr:float = 1e-3\n",
    "    min_lr:float = 1e-4\n",
    "    warmup_steps:int = 100\n",
    "    decay_steps:int = 85*num_steps//100\n",
    "\n",
    "    beta1:float = 0.9\n",
    "    beta2:float = 0.99\n",
    "    clipvalue:float = 1e0\n",
    "    weight_decay:float = 1e-1"
   ]
  },
  {
   "cell_type": "code",
   "execution_count": 14,
   "metadata": {},
   "outputs": [
    {
     "name": "stdout",
     "output_type": "stream",
     "text": [
      "{'train': <_PrefetchDataset element_spec=(TensorSpec(shape=(None, None), dtype=tf.int32, name=None), TensorSpec(shape=(None, None), dtype=tf.int32, name=None))>, 'val': <_PrefetchDataset element_spec=(TensorSpec(shape=(None, None), dtype=tf.int32, name=None), TensorSpec(shape=(None, None), dtype=tf.int32, name=None))>}\n"
     ]
    }
   ],
   "source": [
    "data = encode(shakespeare_text)\n",
    "datasets = {\"train\": to_dataset(data[:1_000_000], length=GPTArgs.max_context_length, shuffle=True, batch_size=TArgs.batch_size, seed=42), # ~90%split\n",
    "            \"val\": to_dataset(data[1_000_000:], length=GPTArgs.max_context_length, shuffle=True, batch_size=TArgs.batch_size, seed=0)}\n",
    "print(datasets)"
   ]
  },
  {
   "cell_type": "markdown",
   "metadata": {},
   "source": [
    "# Model, lr schedule, compile and training"
   ]
  },
  {
   "cell_type": "code",
   "execution_count": 15,
   "metadata": {},
   "outputs": [],
   "source": [
    "learning_rate = nn.optimizers.schedules.CosineDecay(\n",
    "    initial_learning_rate=TArgs.max_lr,\n",
    "    decay_steps=TArgs.decay_steps,\n",
    "    warmup_steps=TArgs.warmup_steps,\n",
    "    warmup_target=TArgs.max_lr,\n",
    "    alpha=TArgs.min_lr/TArgs.max_lr\n",
    ")"
   ]
  },
  {
   "cell_type": "code",
   "execution_count": 16,
   "metadata": {},
   "outputs": [
    {
     "data": {
      "image/png": "[encoded data removed]",
      "text/plain": [
       "<Figure size 640x480 with 1 Axes>"
      ]
     },
     "metadata": {},
     "output_type": "display_data"
    }
   ],
   "source": [
    "steps = jnp.arange(1, TArgs.num_steps+1)\n",
    "lrs = jax.vmap(learning_rate)(steps)\n",
    "\n",
    "plt.plot(steps, lrs); del lrs, steps\n",
    "plt.show()"
   ]
  },
  {
   "cell_type": "code",
   "execution_count": 17,
   "metadata": {},
   "outputs": [],
   "source": [
    "model.compile(\n",
    "    optimizer=nn.optimizers.AdamW(\n",
    "        learning_rate=learning_rate,\n",
    "        beta_1=TArgs.beta1,\n",
    "        beta_2=TArgs.beta2, \n",
    "        clipvalue=TArgs.clipvalue, \n",
    "        weight_decay=TArgs.weight_decay\n",
    "    ),\n",
    "    loss=nn.losses.SparseCategoricalCrossentropy(from_logits=True),\n",
    ")"
   ]
  },
  {
   "cell_type": "code",
   "execution_count": 18,
   "metadata": {},
   "outputs": [],
   "source": [
    "def sample_top_k(key, logits, k):\n",
    "    topk_logits, topk_idx = jax.lax.top_k(logits, k=k)\n",
    "    idx = jrand.categorical(key, topk_logits)\n",
    "    return topk_idx[0][idx]\n",
    "\n",
    "\n",
    "def generate(idx:Array, max_new_tokens:int, top_k:int|None=None, seed:int=42):    \n",
    "    key = jrand.PRNGKey(seed)\n",
    "    for _ in range(max_new_tokens):\n",
    "        idx_cond = idx[:, -GPTArgs.max_context_length:] # (B, T)\n",
    "        logits = model(idx_cond, training=False)[:, -1, :]/0.89 # (B, T, vocab_size)[:, -1, :] => (B, vocab_size)\n",
    "        idx_next = jrand.categorical(key, logits) if top_k is None else sample_top_k(key, logits, k=top_k) # (B, 1)\n",
    "        key, _ = jrand.split(key)\n",
    "        idx = jnp.concatenate((idx, idx_next[None]), axis=-1) # (B, T+1)\n",
    "    return idx.tolist()[0]\n",
    "\n",
    "\n",
    "saveW = nn.callbacks.ModelCheckpoint(\n",
    "    filepath=TArgs.checkpoint,\n",
    "    save_weights_only=True\n",
    ")\n",
    "early_stop = nn.callbacks.EarlyStopping(\n",
    "    patience=7,\n",
    "    restore_best_weights=True,\n",
    ")\n",
    "\n",
    "# class DisplayCallback(nn.callbacks.Callback):\n",
    "#     def on_epoch_end(self, epoch, logs=None):\n",
    "#         print(\"\\n\")\n",
    "#         print(decode(generate(idx=jnp.array([[0.]]), max_new_tokens=100, top_k=10, seed=epoch)))\n",
    "#         print(\"\\n\")\n",
    "#         return"
   ]
  },
  {
   "cell_type": "code",
   "execution_count": 19,
   "metadata": {},
   "outputs": [
    {
     "name": "stdout",
     "output_type": "stream",
     "text": [
      "Epoch 1/40\n",
      "\u001b[1m250/250\u001b[0m \u001b[32m━━━━━━━━━━━━━━━━━━━━\u001b[0m\u001b[37m\u001b[0m \u001b[1m14s\u001b[0m 32ms/step - loss: 2.5694 - val_loss: 2.3311\n",
      "Epoch 2/40\n",
      "\u001b[1m250/250\u001b[0m \u001b[32m━━━━━━━━━━━━━━━━━━━━\u001b[0m\u001b[37m\u001b[0m \u001b[1m5s\u001b[0m 20ms/step - loss: 1.7354 - val_loss: 2.3002\n",
      "Epoch 3/40\n",
      "\u001b[1m250/250\u001b[0m \u001b[32m━━━━━━━━━━━━━━━━━━━━\u001b[0m\u001b[37m\u001b[0m \u001b[1m5s\u001b[0m 20ms/step - loss: 1.6211 - val_loss: 2.2819\n",
      "Epoch 4/40\n",
      "\u001b[1m250/250\u001b[0m \u001b[32m━━━━━━━━━━━━━━━━━━━━\u001b[0m\u001b[37m\u001b[0m \u001b[1m5s\u001b[0m 20ms/step - loss: 1.5792 - val_loss: 2.2115\n",
      "Epoch 5/40\n",
      "\u001b[1m250/250\u001b[0m \u001b[32m━━━━━━━━━━━━━━━━━━━━\u001b[0m\u001b[37m\u001b[0m \u001b[1m5s\u001b[0m 20ms/step - loss: 1.5687 - val_loss: 2.1711\n",
      "Epoch 6/40\n",
      "\u001b[1m250/250\u001b[0m \u001b[32m━━━━━━━━━━━━━━━━━━━━\u001b[0m\u001b[37m\u001b[0m \u001b[1m5s\u001b[0m 20ms/step - loss: 1.5484 - val_loss: 2.1704\n",
      "Epoch 7/40\n",
      "\u001b[1m250/250\u001b[0m \u001b[32m━━━━━━━━━━━━━━━━━━━━\u001b[0m\u001b[37m\u001b[0m \u001b[1m5s\u001b[0m 20ms/step - loss: 1.5342 - val_loss: 2.1764\n",
      "Epoch 8/40\n",
      "\u001b[1m250/250\u001b[0m \u001b[32m━━━━━━━━━━━━━━━━━━━━\u001b[0m\u001b[37m\u001b[0m \u001b[1m5s\u001b[0m 21ms/step - loss: 1.5196 - val_loss: 2.1637\n",
      "Epoch 9/40\n",
      "\u001b[1m250/250\u001b[0m \u001b[32m━━━━━━━━━━━━━━━━━━━━\u001b[0m\u001b[37m\u001b[0m \u001b[1m5s\u001b[0m 20ms/step - loss: 1.5024 - val_loss: 2.1545\n",
      "Epoch 10/40\n",
      "\u001b[1m250/250\u001b[0m \u001b[32m━━━━━━━━━━━━━━━━━━━━\u001b[0m\u001b[37m\u001b[0m \u001b[1m5s\u001b[0m 20ms/step - loss: 1.4889 - val_loss: 2.1383\n",
      "Epoch 11/40\n",
      "\u001b[1m250/250\u001b[0m \u001b[32m━━━━━━━━━━━━━━━━━━━━\u001b[0m\u001b[37m\u001b[0m \u001b[1m5s\u001b[0m 20ms/step - loss: 1.4855 - val_loss: 2.1404\n",
      "Epoch 12/40\n",
      "\u001b[1m250/250\u001b[0m \u001b[32m━━━━━━━━━━━━━━━━━━━━\u001b[0m\u001b[37m\u001b[0m \u001b[1m5s\u001b[0m 20ms/step - loss: 1.4727 - val_loss: 2.1565\n",
      "Epoch 13/40\n",
      "\u001b[1m250/250\u001b[0m \u001b[32m━━━━━━━━━━━━━━━━━━━━\u001b[0m\u001b[37m\u001b[0m \u001b[1m5s\u001b[0m 20ms/step - loss: 1.4571 - val_loss: 2.1444\n",
      "Epoch 14/40\n",
      "\u001b[1m250/250\u001b[0m \u001b[32m━━━━━━━━━━━━━━━━━━━━\u001b[0m\u001b[37m\u001b[0m \u001b[1m5s\u001b[0m 20ms/step - loss: 1.4573 - val_loss: 2.1227\n",
      "Epoch 15/40\n",
      "\u001b[1m250/250\u001b[0m \u001b[32m━━━━━━━━━━━━━━━━━━━━\u001b[0m\u001b[37m\u001b[0m \u001b[1m5s\u001b[0m 20ms/step - loss: 1.4624 - val_loss: 2.1427\n",
      "Epoch 16/40\n",
      "\u001b[1m250/250\u001b[0m \u001b[32m━━━━━━━━━━━━━━━━━━━━\u001b[0m\u001b[37m\u001b[0m \u001b[1m5s\u001b[0m 20ms/step - loss: 1.4532 - val_loss: 2.1662\n",
      "Epoch 17/40\n",
      "\u001b[1m250/250\u001b[0m \u001b[32m━━━━━━━━━━━━━━━━━━━━\u001b[0m\u001b[37m\u001b[0m \u001b[1m5s\u001b[0m 20ms/step - loss: 1.4611 - val_loss: 2.1436\n",
      "Epoch 18/40\n",
      "\u001b[1m250/250\u001b[0m \u001b[32m━━━━━━━━━━━━━━━━━━━━\u001b[0m\u001b[37m\u001b[0m \u001b[1m5s\u001b[0m 20ms/step - loss: 1.4501 - val_loss: 2.1512\n",
      "Epoch 19/40\n",
      "\u001b[1m250/250\u001b[0m \u001b[32m━━━━━━━━━━━━━━━━━━━━\u001b[0m\u001b[37m\u001b[0m \u001b[1m5s\u001b[0m 20ms/step - loss: 1.4526 - val_loss: 2.1667\n",
      "Epoch 20/40\n",
      "\u001b[1m250/250\u001b[0m \u001b[32m━━━━━━━━━━━━━━━━━━━━\u001b[0m\u001b[37m\u001b[0m \u001b[1m5s\u001b[0m 20ms/step - loss: 1.4420 - val_loss: 2.1740\n",
      "Epoch 21/40\n",
      "\u001b[1m250/250\u001b[0m \u001b[32m━━━━━━━━━━━━━━━━━━━━\u001b[0m\u001b[37m\u001b[0m \u001b[1m5s\u001b[0m 20ms/step - loss: 1.4362 - val_loss: 2.1796\n",
      "Epoch 22/40\n",
      "\u001b[1m250/250\u001b[0m \u001b[32m━━━━━━━━━━━━━━━━━━━━\u001b[0m\u001b[37m\u001b[0m \u001b[1m5s\u001b[0m 20ms/step - loss: 1.4297 - val_loss: 2.1197\n",
      "Epoch 23/40\n",
      "\u001b[1m250/250\u001b[0m \u001b[32m━━━━━━━━━━━━━━━━━━━━\u001b[0m\u001b[37m\u001b[0m \u001b[1m5s\u001b[0m 20ms/step - loss: 1.4420 - val_loss: 2.0956\n",
      "Epoch 24/40\n",
      "\u001b[1m250/250\u001b[0m \u001b[32m━━━━━━━━━━━━━━━━━━━━\u001b[0m\u001b[37m\u001b[0m \u001b[1m5s\u001b[0m 20ms/step - loss: 1.4583 - val_loss: 2.0969\n",
      "Epoch 25/40\n",
      "\u001b[1m250/250\u001b[0m \u001b[32m━━━━━━━━━━━━━━━━━━━━\u001b[0m\u001b[37m\u001b[0m \u001b[1m5s\u001b[0m 21ms/step - loss: 1.4544 - val_loss: 2.0846\n",
      "Epoch 26/40\n",
      "\u001b[1m250/250\u001b[0m \u001b[32m━━━━━━━━━━━━━━━━━━━━\u001b[0m\u001b[37m\u001b[0m \u001b[1m5s\u001b[0m 20ms/step - loss: 1.4580 - val_loss: 2.0883\n",
      "Epoch 27/40\n",
      "\u001b[1m250/250\u001b[0m \u001b[32m━━━━━━━━━━━━━━━━━━━━\u001b[0m\u001b[37m\u001b[0m \u001b[1m5s\u001b[0m 20ms/step - loss: 1.4637 - val_loss: 2.0787\n",
      "Epoch 28/40\n",
      "\u001b[1m250/250\u001b[0m \u001b[32m━━━━━━━━━━━━━━━━━━━━\u001b[0m\u001b[37m\u001b[0m \u001b[1m5s\u001b[0m 20ms/step - loss: 1.4594 - val_loss: 2.0881\n",
      "Epoch 29/40\n",
      "\u001b[1m250/250\u001b[0m \u001b[32m━━━━━━━━━━━━━━━━━━━━\u001b[0m\u001b[37m\u001b[0m \u001b[1m5s\u001b[0m 20ms/step - loss: 1.4588 - val_loss: 2.0803\n",
      "Epoch 30/40\n",
      "\u001b[1m250/250\u001b[0m \u001b[32m━━━━━━━━━━━━━━━━━━━━\u001b[0m\u001b[37m\u001b[0m \u001b[1m5s\u001b[0m 20ms/step - loss: 1.4673 - val_loss: 2.0805\n",
      "Epoch 31/40\n",
      "\u001b[1m250/250\u001b[0m \u001b[32m━━━━━━━━━━━━━━━━━━━━\u001b[0m\u001b[37m\u001b[0m \u001b[1m5s\u001b[0m 20ms/step - loss: 1.4644 - val_loss: 2.0834\n",
      "Epoch 32/40\n",
      "\u001b[1m250/250\u001b[0m \u001b[32m━━━━━━━━━━━━━━━━━━━━\u001b[0m\u001b[37m\u001b[0m \u001b[1m5s\u001b[0m 20ms/step - loss: 1.4606 - val_loss: 2.0852\n",
      "Epoch 33/40\n",
      "\u001b[1m250/250\u001b[0m \u001b[32m━━━━━━━━━━━━━━━━━━━━\u001b[0m\u001b[37m\u001b[0m \u001b[1m5s\u001b[0m 20ms/step - loss: 1.4662 - val_loss: 2.0819\n",
      "Epoch 34/40\n",
      "\u001b[1m250/250\u001b[0m \u001b[32m━━━━━━━━━━━━━━━━━━━━\u001b[0m\u001b[37m\u001b[0m \u001b[1m5s\u001b[0m 20ms/step - loss: 1.4681 - val_loss: 2.0900\n",
      "Epoch 35/40\n",
      "\u001b[1m250/250\u001b[0m \u001b[32m━━━━━━━━━━━━━━━━━━━━\u001b[0m\u001b[37m\u001b[0m \u001b[1m5s\u001b[0m 20ms/step - loss: 1.4617 - val_loss: 2.0893\n",
      "Epoch 36/40\n",
      "\u001b[1m250/250\u001b[0m \u001b[32m━━━━━━━━━━━━━━━━━━━━\u001b[0m\u001b[37m\u001b[0m \u001b[1m5s\u001b[0m 20ms/step - loss: 1.4571 - val_loss: 2.0877\n",
      "Epoch 37/40\n",
      "\u001b[1m250/250\u001b[0m \u001b[32m━━━━━━━━━━━━━━━━━━━━\u001b[0m\u001b[37m\u001b[0m \u001b[1m5s\u001b[0m 21ms/step - loss: 1.4493 - val_loss: 2.0850\n",
      "Epoch 38/40\n",
      "\u001b[1m250/250\u001b[0m \u001b[32m━━━━━━━━━━━━━━━━━━━━\u001b[0m\u001b[37m\u001b[0m \u001b[1m5s\u001b[0m 21ms/step - loss: 1.4452 - val_loss: 2.0892\n",
      "Epoch 39/40\n",
      "\u001b[1m250/250\u001b[0m \u001b[32m━━━━━━━━━━━━━━━━━━━━\u001b[0m\u001b[37m\u001b[0m \u001b[1m5s\u001b[0m 20ms/step - loss: 1.4503 - val_loss: 2.0481\n",
      "Epoch 40/40\n",
      "\u001b[1m250/250\u001b[0m \u001b[32m━━━━━━━━━━━━━━━━━━━━\u001b[0m\u001b[37m\u001b[0m \u001b[1m5s\u001b[0m 20ms/step - loss: 1.4761 - val_loss: 2.0388\n"
     ]
    }
   ],
   "source": [
    "history = model.fit(\n",
    "    x=datasets[\"train\"],\n",
    "    epochs=TArgs.epochs,\n",
    "    steps_per_epoch=TArgs.steps_per_epoch,\n",
    "    validation_data=datasets[\"val\"],\n",
    "    callbacks=[saveW, early_stop], #DisplayCallback()]\n",
    ")"
   ]
  },
  {
   "cell_type": "code",
   "execution_count": 20,
   "metadata": {},
   "outputs": [
    {
     "name": "stdout",
     "output_type": "stream",
     "text": [
      "Qonom owingh cload you, whips, anddes a ditoners oe-Fr-widacrilness to appear thy shame; let heart, Warwick from the baiter and many feigned by thy grace and laughed there's a dust thou liest, and what kill my lord?\n",
      "\n",
      "KING RICHARD:\n",
      "When no fight.\n",
      "\n",
      "CLARENCE:\n",
      "Who bleance is this that we have, madam: I have to-night.\n",
      "But\n",
      "Ay, young was yourselfsame we are we dear blows. I'll tell we have shadeth the reason but forces to deposed!\n",
      "I can grandsire,\n",
      "And in your trumpets,\n",
      "That dear.\n",
      "\n",
      "WARWICK:\n",
      "And set our hearts of the stronger.\n",
      "\n",
      "POLIXENES:\n",
      "She't nothing to assist the liphanity, take out of him to bed!\n",
      "And, I am no sour houses?\n",
      "O, stand he is suppose,\n",
      "Were is thee, sir.\n",
      "\n",
      "LEONTES:\n",
      "Hereford, murder for me answer\n",
      "Before King Henry, haught of nature shall arraRosliyed of these law in my soul to myself, a lectation of his majesty\n",
      "Myself a taily in thy Lammas-sight,\n",
      "And I cannot answer made him so untimely friend, as we hewd disinherit to be there?\n",
      "\n",
      "HASTINGS:\n",
      "We shows me, but I'll warrant and stay:\n",
      "You \n"
     ]
    }
   ],
   "source": [
    "print(decode(generate(idx=jnp.array([[29]]), max_new_tokens=1000, seed=42, top_k=None)))"
   ]
  },
  {
   "cell_type": "code",
   "execution_count": 21,
   "metadata": {},
   "outputs": [
    {
     "name": "stdout",
     "output_type": "stream",
     "text": [
      "He, bomby. its wiprich ones bear now then at.'\n",
      "\n",
      "RORIRICHASNMTIMsS:\n",
      "You are throne, being to die,\n",
      "Open these\n",
      "Is lay the suppose to tent; and not be his fear this seek them and\n",
      "To help! my soul!\n",
      "See, razing thou art from his sorrow,\n",
      "Shall be thousands uses into the traitor's\n",
      "As thou would nothing blood at is the self.\n",
      "\n",
      "OXFORD:\n",
      "Now, my lord,\n",
      "Whose honour's face;\n",
      "For that thou deny to hriek\n",
      "Of my breast of the princely eyes\n",
      "That we have left came from the park to myself?\n",
      "\n",
      "WARWICK:\n",
      "She's from this arm up the\n",
      "Enfranchisements of me\n",
      "May shot seld with death,\n",
      "I have done, master die.\n",
      "\n",
      "POLIXENES:\n",
      "Why thee seldom proceeders,\n",
      "Which we will assured at the say the dulleshines that this place\n",
      "I' quarrel was with me some for brother ancestor, be viand howlrn;\n",
      "And, as mine.\n",
      "\n",
      "KING HENRY VI:\n",
      "What sleep, and as falling on the taunts he was to make me these honourably threat thus toward the shall we met then bring your me got wantings insulting tempeach my friendly,\n",
      "Bulo, thou could day by complices, as my\n"
     ]
    }
   ],
   "source": [
    "print(decode(generate(idx=jnp.array([[20.]]), max_new_tokens=1000, seed=98857745, top_k=10)))"
   ]
  },
  {
   "cell_type": "code",
   "execution_count": 22,
   "metadata": {},
   "outputs": [
    {
     "name": "stdout",
     "output_type": "stream",
     "text": [
      "\n",
      "lon\n",
      "I myfento bean wault\n",
      "With onever clase?s sucar,\n",
      "His sigh treason carries and trumpets!\n",
      "\n",
      "PRINCE EDWARD IV:\n",
      "But Warwick. Well, my lord, liether spite of ill-shaped on the king was thine every thing;\n",
      "And sting,\n",
      "And make your house\n",
      "Be and his native the cure of the abject,\n",
      "And set thy crown.\n",
      "\n",
      "KING HENRY VI:\n",
      "What call King Lewis unto the queen\n",
      "Romeo's hand this sin\n",
      "Hast to creature in tenter'd jot.\n",
      "\n",
      "KING EDWARD IV:\n",
      "I will not pectacle thinks it none inforce we favour'd, and not ceaming common doth swell: even you shall remains,--but lies\n",
      "Not safeget;\n",
      "And that rough for this:\n",
      "And, murder, my lords, to yours, if Warwick by tongue,\n",
      "And do it.\n",
      "\n",
      "LEONTES:\n",
      "A blind they to see thing Tybalt;\n",
      "And what's a dauphin is thy face,\n",
      "Writ in that she's could, do evention may brothers daggers than you like to ours must have been wappear to a hown.\n",
      "\n",
      "CLARENCE:\n",
      "Why, lords, there is no thou there is no stops this world forget young Rosaling show'd you slow, with the sight.\n",
      "\n",
      "POLIXENES:\n",
      "Brother for one?\n",
      "\n",
      "Second Watchman:\n",
      "I am they are spake it, and yet next and will acts, sport the lalong,\n",
      "And a king in renown'd;\n",
      "And us hold we were hath done me merry in the prince, I will father's traitor\n",
      "Be patience,\n",
      "Or else he lady to London the common both objects taken.\n",
      "\n",
      "LADY GREY:\n",
      "Each thee thinkit is it\n",
      "is not night\n",
      "Never parent shall be concludate thine.\n",
      "\n",
      "LEONTES:\n",
      "'O, God, I as my deserves is the house of life\n",
      "In which words, come, in to be seen returns and so that son in a lady from the edge\n",
      "Which sworn,\n",
      "Or any tamping trees they saw truth,\n",
      "Which, seeks of your majesty\n",
      "To rase! O, thou native place.\n",
      "\n",
      "DUCHESS OF YORK:\n",
      "I came, and so I\n",
      "Wrath Margaret, and I ordain'd.\n",
      "\n",
      "KING EDWARD IV:\n",
      "Let me merry of their woman!\n",
      "Prepare our brothers can to be repossessor for Burgunarring sweet; unshine my tender than trust: as I not stay at the cell a rraven, do some for her children, there I like not, I prush.\n",
      "But he do a fool!\n",
      "A' ha! dare not poor my exercise are all of much is brother?\n",
      "\n",
      "WARWICK:\n",
      "My brother of ourse\n"
     ]
    }
   ],
   "source": [
    "print(decode(generate(idx=jnp.array([[0.]]), max_new_tokens=2000, seed=12212, top_k=None)))"
   ]
  }
 ],
 "metadata": {
  "kernelspec": {
   "display_name": "Python 3",
   "language": "python",
   "name": "python3"
  },
  "language_info": {
   "codemirror_mode": {
    "name": "ipython",
    "version": 3
   },
   "file_extension": ".py",
   "mimetype": "text/x-python",
   "name": "python",
   "nbconvert_exporter": "python",
   "pygments_lexer": "ipython3",
   "version": "3.11.0"
  }
 },
 "nbformat": 4,
 "nbformat_minor": 2
}
